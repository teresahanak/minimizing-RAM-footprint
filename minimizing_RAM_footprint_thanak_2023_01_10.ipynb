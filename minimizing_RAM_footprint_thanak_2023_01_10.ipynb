{
 "cells": [
  {
   "cell_type": "markdown",
   "metadata": {},
   "source": [
    "# Minimizing RAM Usage with Batch Processing and Optimizing Datatypes\n",
    "This example project illustrates the processes of determining optimal batch size for processing with chunk iterators (TextFileReader) in pandas with use of converters and dtype parameters for pd.read_csv() for optimal typecasting.  The assumption is that only 10 MB of RAM is available for any subsequent analysis, so the objective is to create a plan for loading the data accordingly."
   ]
  },
  {
   "cell_type": "markdown",
   "metadata": {},
   "source": [
    "## Import Necessary Libraries"
   ]
  },
  {
   "cell_type": "code",
   "execution_count": 1,
   "metadata": {},
   "outputs": [
    {
     "data": {
      "application/javascript": [
       "\n",
       "            setTimeout(function() {\n",
       "                var nbb_cell_id = 1;\n",
       "                var nbb_unformatted_code = \"%load_ext nb_black\\n\\nimport pandas as pd\\nimport numpy as np\\n\\npd.options.display.max_columns = 99\";\n",
       "                var nbb_formatted_code = \"%load_ext nb_black\\n\\nimport pandas as pd\\nimport numpy as np\\n\\npd.options.display.max_columns = 99\";\n",
       "                var nbb_cells = Jupyter.notebook.get_cells();\n",
       "                for (var i = 0; i < nbb_cells.length; ++i) {\n",
       "                    if (nbb_cells[i].input_prompt_number == nbb_cell_id) {\n",
       "                        if (nbb_cells[i].get_text() == nbb_unformatted_code) {\n",
       "                             nbb_cells[i].set_text(nbb_formatted_code);\n",
       "                        }\n",
       "                        break;\n",
       "                    }\n",
       "                }\n",
       "            }, 500);\n",
       "            "
      ],
      "text/plain": [
       "<IPython.core.display.Javascript object>"
      ]
     },
     "metadata": {},
     "output_type": "display_data"
    }
   ],
   "source": [
    "%load_ext nb_black\n",
    "\n",
    "import pandas as pd\n",
    "import numpy as np\n",
    "\n",
    "pd.options.display.max_columns = 99"
   ]
  },
  {
   "cell_type": "markdown",
   "metadata": {},
   "source": [
    "## Load and Examine First 5 Rows of csv File"
   ]
  },
  {
   "cell_type": "code",
   "execution_count": 2,
   "metadata": {},
   "outputs": [
    {
     "name": "stdout",
     "output_type": "stream",
     "text": [
      "52 columns\n"
     ]
    },
    {
     "data": {
      "text/html": [
       "<div>\n",
       "<style scoped>\n",
       "    .dataframe tbody tr th:only-of-type {\n",
       "        vertical-align: middle;\n",
       "    }\n",
       "\n",
       "    .dataframe tbody tr th {\n",
       "        vertical-align: top;\n",
       "    }\n",
       "\n",
       "    .dataframe thead th {\n",
       "        text-align: right;\n",
       "    }\n",
       "</style>\n",
       "<table border=\"1\" class=\"dataframe\">\n",
       "  <thead>\n",
       "    <tr style=\"text-align: right;\">\n",
       "      <th></th>\n",
       "      <th>id</th>\n",
       "      <th>member_id</th>\n",
       "      <th>loan_amnt</th>\n",
       "      <th>funded_amnt</th>\n",
       "      <th>funded_amnt_inv</th>\n",
       "      <th>term</th>\n",
       "      <th>int_rate</th>\n",
       "      <th>installment</th>\n",
       "      <th>grade</th>\n",
       "      <th>sub_grade</th>\n",
       "      <th>emp_title</th>\n",
       "      <th>emp_length</th>\n",
       "      <th>home_ownership</th>\n",
       "      <th>annual_inc</th>\n",
       "      <th>verification_status</th>\n",
       "      <th>issue_d</th>\n",
       "      <th>loan_status</th>\n",
       "      <th>pymnt_plan</th>\n",
       "      <th>purpose</th>\n",
       "      <th>title</th>\n",
       "      <th>zip_code</th>\n",
       "      <th>addr_state</th>\n",
       "      <th>dti</th>\n",
       "      <th>delinq_2yrs</th>\n",
       "      <th>earliest_cr_line</th>\n",
       "      <th>inq_last_6mths</th>\n",
       "      <th>open_acc</th>\n",
       "      <th>pub_rec</th>\n",
       "      <th>revol_bal</th>\n",
       "      <th>revol_util</th>\n",
       "      <th>total_acc</th>\n",
       "      <th>initial_list_status</th>\n",
       "      <th>out_prncp</th>\n",
       "      <th>out_prncp_inv</th>\n",
       "      <th>total_pymnt</th>\n",
       "      <th>total_pymnt_inv</th>\n",
       "      <th>total_rec_prncp</th>\n",
       "      <th>total_rec_int</th>\n",
       "      <th>total_rec_late_fee</th>\n",
       "      <th>recoveries</th>\n",
       "      <th>collection_recovery_fee</th>\n",
       "      <th>last_pymnt_d</th>\n",
       "      <th>last_pymnt_amnt</th>\n",
       "      <th>last_credit_pull_d</th>\n",
       "      <th>collections_12_mths_ex_med</th>\n",
       "      <th>policy_code</th>\n",
       "      <th>application_type</th>\n",
       "      <th>acc_now_delinq</th>\n",
       "      <th>chargeoff_within_12_mths</th>\n",
       "      <th>delinq_amnt</th>\n",
       "      <th>pub_rec_bankruptcies</th>\n",
       "      <th>tax_liens</th>\n",
       "    </tr>\n",
       "  </thead>\n",
       "  <tbody>\n",
       "    <tr>\n",
       "      <th>0</th>\n",
       "      <td>1077501</td>\n",
       "      <td>1296599.0</td>\n",
       "      <td>5000.0</td>\n",
       "      <td>5000.0</td>\n",
       "      <td>4975.0</td>\n",
       "      <td>36 months</td>\n",
       "      <td>10.65%</td>\n",
       "      <td>162.87</td>\n",
       "      <td>B</td>\n",
       "      <td>B2</td>\n",
       "      <td>NaN</td>\n",
       "      <td>10+ years</td>\n",
       "      <td>RENT</td>\n",
       "      <td>24000.0</td>\n",
       "      <td>Verified</td>\n",
       "      <td>Dec-2011</td>\n",
       "      <td>Fully Paid</td>\n",
       "      <td>n</td>\n",
       "      <td>credit_card</td>\n",
       "      <td>Computer</td>\n",
       "      <td>860xx</td>\n",
       "      <td>AZ</td>\n",
       "      <td>27.65</td>\n",
       "      <td>0.0</td>\n",
       "      <td>Jan-1985</td>\n",
       "      <td>1.0</td>\n",
       "      <td>3.0</td>\n",
       "      <td>0.0</td>\n",
       "      <td>13648.0</td>\n",
       "      <td>83.7%</td>\n",
       "      <td>9.0</td>\n",
       "      <td>f</td>\n",
       "      <td>0.00</td>\n",
       "      <td>0.00</td>\n",
       "      <td>5863.155187</td>\n",
       "      <td>5833.84</td>\n",
       "      <td>5000.00</td>\n",
       "      <td>863.16</td>\n",
       "      <td>0.00</td>\n",
       "      <td>0.00</td>\n",
       "      <td>0.00</td>\n",
       "      <td>Jan-2015</td>\n",
       "      <td>171.62</td>\n",
       "      <td>Jun-2016</td>\n",
       "      <td>0.0</td>\n",
       "      <td>1.0</td>\n",
       "      <td>INDIVIDUAL</td>\n",
       "      <td>0.0</td>\n",
       "      <td>0.0</td>\n",
       "      <td>0.0</td>\n",
       "      <td>0.0</td>\n",
       "      <td>0.0</td>\n",
       "    </tr>\n",
       "    <tr>\n",
       "      <th>1</th>\n",
       "      <td>1077430</td>\n",
       "      <td>1314167.0</td>\n",
       "      <td>2500.0</td>\n",
       "      <td>2500.0</td>\n",
       "      <td>2500.0</td>\n",
       "      <td>60 months</td>\n",
       "      <td>15.27%</td>\n",
       "      <td>59.83</td>\n",
       "      <td>C</td>\n",
       "      <td>C4</td>\n",
       "      <td>Ryder</td>\n",
       "      <td>&lt; 1 year</td>\n",
       "      <td>RENT</td>\n",
       "      <td>30000.0</td>\n",
       "      <td>Source Verified</td>\n",
       "      <td>Dec-2011</td>\n",
       "      <td>Charged Off</td>\n",
       "      <td>n</td>\n",
       "      <td>car</td>\n",
       "      <td>bike</td>\n",
       "      <td>309xx</td>\n",
       "      <td>GA</td>\n",
       "      <td>1.00</td>\n",
       "      <td>0.0</td>\n",
       "      <td>Apr-1999</td>\n",
       "      <td>5.0</td>\n",
       "      <td>3.0</td>\n",
       "      <td>0.0</td>\n",
       "      <td>1687.0</td>\n",
       "      <td>9.4%</td>\n",
       "      <td>4.0</td>\n",
       "      <td>f</td>\n",
       "      <td>0.00</td>\n",
       "      <td>0.00</td>\n",
       "      <td>1008.710000</td>\n",
       "      <td>1008.71</td>\n",
       "      <td>456.46</td>\n",
       "      <td>435.17</td>\n",
       "      <td>0.00</td>\n",
       "      <td>117.08</td>\n",
       "      <td>1.11</td>\n",
       "      <td>Apr-2013</td>\n",
       "      <td>119.66</td>\n",
       "      <td>Sep-2013</td>\n",
       "      <td>0.0</td>\n",
       "      <td>1.0</td>\n",
       "      <td>INDIVIDUAL</td>\n",
       "      <td>0.0</td>\n",
       "      <td>0.0</td>\n",
       "      <td>0.0</td>\n",
       "      <td>0.0</td>\n",
       "      <td>0.0</td>\n",
       "    </tr>\n",
       "    <tr>\n",
       "      <th>2</th>\n",
       "      <td>1077175</td>\n",
       "      <td>1313524.0</td>\n",
       "      <td>2400.0</td>\n",
       "      <td>2400.0</td>\n",
       "      <td>2400.0</td>\n",
       "      <td>36 months</td>\n",
       "      <td>15.96%</td>\n",
       "      <td>84.33</td>\n",
       "      <td>C</td>\n",
       "      <td>C5</td>\n",
       "      <td>NaN</td>\n",
       "      <td>10+ years</td>\n",
       "      <td>RENT</td>\n",
       "      <td>12252.0</td>\n",
       "      <td>Not Verified</td>\n",
       "      <td>Dec-2011</td>\n",
       "      <td>Fully Paid</td>\n",
       "      <td>n</td>\n",
       "      <td>small_business</td>\n",
       "      <td>real estate business</td>\n",
       "      <td>606xx</td>\n",
       "      <td>IL</td>\n",
       "      <td>8.72</td>\n",
       "      <td>0.0</td>\n",
       "      <td>Nov-2001</td>\n",
       "      <td>2.0</td>\n",
       "      <td>2.0</td>\n",
       "      <td>0.0</td>\n",
       "      <td>2956.0</td>\n",
       "      <td>98.5%</td>\n",
       "      <td>10.0</td>\n",
       "      <td>f</td>\n",
       "      <td>0.00</td>\n",
       "      <td>0.00</td>\n",
       "      <td>3005.666844</td>\n",
       "      <td>3005.67</td>\n",
       "      <td>2400.00</td>\n",
       "      <td>605.67</td>\n",
       "      <td>0.00</td>\n",
       "      <td>0.00</td>\n",
       "      <td>0.00</td>\n",
       "      <td>Jun-2014</td>\n",
       "      <td>649.91</td>\n",
       "      <td>Jun-2016</td>\n",
       "      <td>0.0</td>\n",
       "      <td>1.0</td>\n",
       "      <td>INDIVIDUAL</td>\n",
       "      <td>0.0</td>\n",
       "      <td>0.0</td>\n",
       "      <td>0.0</td>\n",
       "      <td>0.0</td>\n",
       "      <td>0.0</td>\n",
       "    </tr>\n",
       "    <tr>\n",
       "      <th>3</th>\n",
       "      <td>1076863</td>\n",
       "      <td>1277178.0</td>\n",
       "      <td>10000.0</td>\n",
       "      <td>10000.0</td>\n",
       "      <td>10000.0</td>\n",
       "      <td>36 months</td>\n",
       "      <td>13.49%</td>\n",
       "      <td>339.31</td>\n",
       "      <td>C</td>\n",
       "      <td>C1</td>\n",
       "      <td>AIR RESOURCES BOARD</td>\n",
       "      <td>10+ years</td>\n",
       "      <td>RENT</td>\n",
       "      <td>49200.0</td>\n",
       "      <td>Source Verified</td>\n",
       "      <td>Dec-2011</td>\n",
       "      <td>Fully Paid</td>\n",
       "      <td>n</td>\n",
       "      <td>other</td>\n",
       "      <td>personel</td>\n",
       "      <td>917xx</td>\n",
       "      <td>CA</td>\n",
       "      <td>20.00</td>\n",
       "      <td>0.0</td>\n",
       "      <td>Feb-1996</td>\n",
       "      <td>1.0</td>\n",
       "      <td>10.0</td>\n",
       "      <td>0.0</td>\n",
       "      <td>5598.0</td>\n",
       "      <td>21%</td>\n",
       "      <td>37.0</td>\n",
       "      <td>f</td>\n",
       "      <td>0.00</td>\n",
       "      <td>0.00</td>\n",
       "      <td>12231.890000</td>\n",
       "      <td>12231.89</td>\n",
       "      <td>10000.00</td>\n",
       "      <td>2214.92</td>\n",
       "      <td>16.97</td>\n",
       "      <td>0.00</td>\n",
       "      <td>0.00</td>\n",
       "      <td>Jan-2015</td>\n",
       "      <td>357.48</td>\n",
       "      <td>Apr-2016</td>\n",
       "      <td>0.0</td>\n",
       "      <td>1.0</td>\n",
       "      <td>INDIVIDUAL</td>\n",
       "      <td>0.0</td>\n",
       "      <td>0.0</td>\n",
       "      <td>0.0</td>\n",
       "      <td>0.0</td>\n",
       "      <td>0.0</td>\n",
       "    </tr>\n",
       "    <tr>\n",
       "      <th>4</th>\n",
       "      <td>1075358</td>\n",
       "      <td>1311748.0</td>\n",
       "      <td>3000.0</td>\n",
       "      <td>3000.0</td>\n",
       "      <td>3000.0</td>\n",
       "      <td>60 months</td>\n",
       "      <td>12.69%</td>\n",
       "      <td>67.79</td>\n",
       "      <td>B</td>\n",
       "      <td>B5</td>\n",
       "      <td>University Medical Group</td>\n",
       "      <td>1 year</td>\n",
       "      <td>RENT</td>\n",
       "      <td>80000.0</td>\n",
       "      <td>Source Verified</td>\n",
       "      <td>Dec-2011</td>\n",
       "      <td>Current</td>\n",
       "      <td>n</td>\n",
       "      <td>other</td>\n",
       "      <td>Personal</td>\n",
       "      <td>972xx</td>\n",
       "      <td>OR</td>\n",
       "      <td>17.94</td>\n",
       "      <td>0.0</td>\n",
       "      <td>Jan-1996</td>\n",
       "      <td>0.0</td>\n",
       "      <td>15.0</td>\n",
       "      <td>0.0</td>\n",
       "      <td>27783.0</td>\n",
       "      <td>53.9%</td>\n",
       "      <td>38.0</td>\n",
       "      <td>f</td>\n",
       "      <td>461.73</td>\n",
       "      <td>461.73</td>\n",
       "      <td>3581.120000</td>\n",
       "      <td>3581.12</td>\n",
       "      <td>2538.27</td>\n",
       "      <td>1042.85</td>\n",
       "      <td>0.00</td>\n",
       "      <td>0.00</td>\n",
       "      <td>0.00</td>\n",
       "      <td>Jun-2016</td>\n",
       "      <td>67.79</td>\n",
       "      <td>Jun-2016</td>\n",
       "      <td>0.0</td>\n",
       "      <td>1.0</td>\n",
       "      <td>INDIVIDUAL</td>\n",
       "      <td>0.0</td>\n",
       "      <td>0.0</td>\n",
       "      <td>0.0</td>\n",
       "      <td>0.0</td>\n",
       "      <td>0.0</td>\n",
       "    </tr>\n",
       "  </tbody>\n",
       "</table>\n",
       "</div>"
      ],
      "text/plain": [
       "        id  member_id  loan_amnt  funded_amnt  funded_amnt_inv        term  \\\n",
       "0  1077501  1296599.0     5000.0       5000.0           4975.0   36 months   \n",
       "1  1077430  1314167.0     2500.0       2500.0           2500.0   60 months   \n",
       "2  1077175  1313524.0     2400.0       2400.0           2400.0   36 months   \n",
       "3  1076863  1277178.0    10000.0      10000.0          10000.0   36 months   \n",
       "4  1075358  1311748.0     3000.0       3000.0           3000.0   60 months   \n",
       "\n",
       "  int_rate  installment grade sub_grade                 emp_title emp_length  \\\n",
       "0   10.65%       162.87     B        B2                       NaN  10+ years   \n",
       "1   15.27%        59.83     C        C4                     Ryder   < 1 year   \n",
       "2   15.96%        84.33     C        C5                       NaN  10+ years   \n",
       "3   13.49%       339.31     C        C1       AIR RESOURCES BOARD  10+ years   \n",
       "4   12.69%        67.79     B        B5  University Medical Group     1 year   \n",
       "\n",
       "  home_ownership  annual_inc verification_status   issue_d  loan_status  \\\n",
       "0           RENT     24000.0            Verified  Dec-2011   Fully Paid   \n",
       "1           RENT     30000.0     Source Verified  Dec-2011  Charged Off   \n",
       "2           RENT     12252.0        Not Verified  Dec-2011   Fully Paid   \n",
       "3           RENT     49200.0     Source Verified  Dec-2011   Fully Paid   \n",
       "4           RENT     80000.0     Source Verified  Dec-2011      Current   \n",
       "\n",
       "  pymnt_plan         purpose                 title zip_code addr_state    dti  \\\n",
       "0          n     credit_card              Computer    860xx         AZ  27.65   \n",
       "1          n             car                  bike    309xx         GA   1.00   \n",
       "2          n  small_business  real estate business    606xx         IL   8.72   \n",
       "3          n           other              personel    917xx         CA  20.00   \n",
       "4          n           other              Personal    972xx         OR  17.94   \n",
       "\n",
       "   delinq_2yrs earliest_cr_line  inq_last_6mths  open_acc  pub_rec  revol_bal  \\\n",
       "0          0.0         Jan-1985             1.0       3.0      0.0    13648.0   \n",
       "1          0.0         Apr-1999             5.0       3.0      0.0     1687.0   \n",
       "2          0.0         Nov-2001             2.0       2.0      0.0     2956.0   \n",
       "3          0.0         Feb-1996             1.0      10.0      0.0     5598.0   \n",
       "4          0.0         Jan-1996             0.0      15.0      0.0    27783.0   \n",
       "\n",
       "  revol_util  total_acc initial_list_status  out_prncp  out_prncp_inv  \\\n",
       "0      83.7%        9.0                   f       0.00           0.00   \n",
       "1       9.4%        4.0                   f       0.00           0.00   \n",
       "2      98.5%       10.0                   f       0.00           0.00   \n",
       "3        21%       37.0                   f       0.00           0.00   \n",
       "4      53.9%       38.0                   f     461.73         461.73   \n",
       "\n",
       "    total_pymnt  total_pymnt_inv  total_rec_prncp  total_rec_int  \\\n",
       "0   5863.155187          5833.84          5000.00         863.16   \n",
       "1   1008.710000          1008.71           456.46         435.17   \n",
       "2   3005.666844          3005.67          2400.00         605.67   \n",
       "3  12231.890000         12231.89         10000.00        2214.92   \n",
       "4   3581.120000          3581.12          2538.27        1042.85   \n",
       "\n",
       "   total_rec_late_fee  recoveries  collection_recovery_fee last_pymnt_d  \\\n",
       "0                0.00        0.00                     0.00     Jan-2015   \n",
       "1                0.00      117.08                     1.11     Apr-2013   \n",
       "2                0.00        0.00                     0.00     Jun-2014   \n",
       "3               16.97        0.00                     0.00     Jan-2015   \n",
       "4                0.00        0.00                     0.00     Jun-2016   \n",
       "\n",
       "   last_pymnt_amnt last_credit_pull_d  collections_12_mths_ex_med  \\\n",
       "0           171.62           Jun-2016                         0.0   \n",
       "1           119.66           Sep-2013                         0.0   \n",
       "2           649.91           Jun-2016                         0.0   \n",
       "3           357.48           Apr-2016                         0.0   \n",
       "4            67.79           Jun-2016                         0.0   \n",
       "\n",
       "   policy_code application_type  acc_now_delinq  chargeoff_within_12_mths  \\\n",
       "0          1.0       INDIVIDUAL             0.0                       0.0   \n",
       "1          1.0       INDIVIDUAL             0.0                       0.0   \n",
       "2          1.0       INDIVIDUAL             0.0                       0.0   \n",
       "3          1.0       INDIVIDUAL             0.0                       0.0   \n",
       "4          1.0       INDIVIDUAL             0.0                       0.0   \n",
       "\n",
       "   delinq_amnt  pub_rec_bankruptcies  tax_liens  \n",
       "0          0.0                   0.0        0.0  \n",
       "1          0.0                   0.0        0.0  \n",
       "2          0.0                   0.0        0.0  \n",
       "3          0.0                   0.0        0.0  \n",
       "4          0.0                   0.0        0.0  "
      ]
     },
     "execution_count": 2,
     "metadata": {},
     "output_type": "execute_result"
    },
    {
     "data": {
      "application/javascript": [
       "\n",
       "            setTimeout(function() {\n",
       "                var nbb_cell_id = 2;\n",
       "                var nbb_unformatted_code = \"first_5 = pd.read_csv(\\\"loans_2007.csv\\\", nrows=5)\\nprint(first_5.shape[1], \\\"columns\\\")\\nfirst_5\";\n",
       "                var nbb_formatted_code = \"first_5 = pd.read_csv(\\\"loans_2007.csv\\\", nrows=5)\\nprint(first_5.shape[1], \\\"columns\\\")\\nfirst_5\";\n",
       "                var nbb_cells = Jupyter.notebook.get_cells();\n",
       "                for (var i = 0; i < nbb_cells.length; ++i) {\n",
       "                    if (nbb_cells[i].input_prompt_number == nbb_cell_id) {\n",
       "                        if (nbb_cells[i].get_text() == nbb_unformatted_code) {\n",
       "                             nbb_cells[i].set_text(nbb_formatted_code);\n",
       "                        }\n",
       "                        break;\n",
       "                    }\n",
       "                }\n",
       "            }, 500);\n",
       "            "
      ],
      "text/plain": [
       "<IPython.core.display.Javascript object>"
      ]
     },
     "metadata": {},
     "output_type": "display_data"
    }
   ],
   "source": [
    "first_5 = pd.read_csv(\"loans_2007.csv\", nrows=5)\n",
    "print(first_5.shape[1], \"columns\")\n",
    "first_5"
   ]
  },
  {
   "cell_type": "markdown",
   "metadata": {},
   "source": [
    "#### Observations:\n",
    "- There are 52 columns.\n",
    "- `id` is nominal.\n",
    "- There are several float type columns with trailing zeros after the decimal, that might be cast as integers if they don't have missing values.  However, as they were cast as floats, some null values are likely.\n",
    "- There are some apparent categorical columns, such as `term`.\n",
    "- `int_rate` and `revol_util` will be of object type, but can be cleaned and converted to float.\n",
    "- `emp_title` can be ignored.\n",
    "- `issue_d`, `earliest_cr_line`, `last_payment_d`, and `last_credit_pull_d` can be cleaned and cast as dates.\n",
    "- `pymnt_plan` can be cast as boolean.\n",
    "- `title` may not be useful, but requires further exploration.\n",
    "- `policy_code` may not be useful for analysis.\n",
    "- `zip code` is represented by only its first 3 digits.  As we have the more granular `addr_state`, we will ignore `zip code`."
   ]
  },
  {
   "cell_type": "markdown",
   "metadata": {},
   "source": [
    "### Determine Appropriate Batch Size to Stay Under 5 MB"
   ]
  },
  {
   "cell_type": "code",
   "execution_count": 3,
   "metadata": {},
   "outputs": [
    {
     "name": "stdout",
     "output_type": "stream",
     "text": [
      "<class 'pandas.core.frame.DataFrame'>\n",
      "RangeIndex: 1000 entries, 0 to 999\n",
      "Data columns (total 52 columns):\n",
      " #   Column                      Non-Null Count  Dtype  \n",
      "---  ------                      --------------  -----  \n",
      " 0   id                          1000 non-null   int64  \n",
      " 1   member_id                   1000 non-null   float64\n",
      " 2   loan_amnt                   1000 non-null   float64\n",
      " 3   funded_amnt                 1000 non-null   float64\n",
      " 4   funded_amnt_inv             1000 non-null   float64\n",
      " 5   term                        1000 non-null   object \n",
      " 6   int_rate                    1000 non-null   object \n",
      " 7   installment                 1000 non-null   float64\n",
      " 8   grade                       1000 non-null   object \n",
      " 9   sub_grade                   1000 non-null   object \n",
      " 10  emp_title                   949 non-null    object \n",
      " 11  emp_length                  983 non-null    object \n",
      " 12  home_ownership              1000 non-null   object \n",
      " 13  annual_inc                  1000 non-null   float64\n",
      " 14  verification_status         1000 non-null   object \n",
      " 15  issue_d                     1000 non-null   object \n",
      " 16  loan_status                 1000 non-null   object \n",
      " 17  pymnt_plan                  1000 non-null   object \n",
      " 18  purpose                     1000 non-null   object \n",
      " 19  title                       1000 non-null   object \n",
      " 20  zip_code                    1000 non-null   object \n",
      " 21  addr_state                  1000 non-null   object \n",
      " 22  dti                         1000 non-null   float64\n",
      " 23  delinq_2yrs                 1000 non-null   float64\n",
      " 24  earliest_cr_line            1000 non-null   object \n",
      " 25  inq_last_6mths              1000 non-null   float64\n",
      " 26  open_acc                    1000 non-null   float64\n",
      " 27  pub_rec                     1000 non-null   float64\n",
      " 28  revol_bal                   1000 non-null   float64\n",
      " 29  revol_util                  1000 non-null   object \n",
      " 30  total_acc                   1000 non-null   float64\n",
      " 31  initial_list_status         1000 non-null   object \n",
      " 32  out_prncp                   1000 non-null   float64\n",
      " 33  out_prncp_inv               1000 non-null   float64\n",
      " 34  total_pymnt                 1000 non-null   float64\n",
      " 35  total_pymnt_inv             1000 non-null   float64\n",
      " 36  total_rec_prncp             1000 non-null   float64\n",
      " 37  total_rec_int               1000 non-null   float64\n",
      " 38  total_rec_late_fee          1000 non-null   float64\n",
      " 39  recoveries                  1000 non-null   float64\n",
      " 40  collection_recovery_fee     1000 non-null   float64\n",
      " 41  last_pymnt_d                999 non-null    object \n",
      " 42  last_pymnt_amnt             1000 non-null   float64\n",
      " 43  last_credit_pull_d          1000 non-null   object \n",
      " 44  collections_12_mths_ex_med  1000 non-null   float64\n",
      " 45  policy_code                 1000 non-null   float64\n",
      " 46  application_type            1000 non-null   object \n",
      " 47  acc_now_delinq              1000 non-null   float64\n",
      " 48  chargeoff_within_12_mths    1000 non-null   float64\n",
      " 49  delinq_amnt                 1000 non-null   float64\n",
      " 50  pub_rec_bankruptcies        1000 non-null   float64\n",
      " 51  tax_liens                   1000 non-null   float64\n",
      "dtypes: float64(30), int64(1), object(21)\n",
      "memory usage: 1.6 MB\n"
     ]
    },
    {
     "data": {
      "application/javascript": [
       "\n",
       "            setTimeout(function() {\n",
       "                var nbb_cell_id = 3;\n",
       "                var nbb_unformatted_code = \"first_1000 = pd.read_csv(\\\"loans_2007.csv\\\", nrows=1000)\\nfirst_1000.info(memory_usage=\\\"deep\\\")\";\n",
       "                var nbb_formatted_code = \"first_1000 = pd.read_csv(\\\"loans_2007.csv\\\", nrows=1000)\\nfirst_1000.info(memory_usage=\\\"deep\\\")\";\n",
       "                var nbb_cells = Jupyter.notebook.get_cells();\n",
       "                for (var i = 0; i < nbb_cells.length; ++i) {\n",
       "                    if (nbb_cells[i].input_prompt_number == nbb_cell_id) {\n",
       "                        if (nbb_cells[i].get_text() == nbb_unformatted_code) {\n",
       "                             nbb_cells[i].set_text(nbb_formatted_code);\n",
       "                        }\n",
       "                        break;\n",
       "                    }\n",
       "                }\n",
       "            }, 500);\n",
       "            "
      ],
      "text/plain": [
       "<IPython.core.display.Javascript object>"
      ]
     },
     "metadata": {},
     "output_type": "display_data"
    }
   ],
   "source": [
    "first_1000 = pd.read_csv(\"loans_2007.csv\", nrows=1000)\n",
    "first_1000.info(memory_usage=\"deep\")"
   ]
  },
  {
   "cell_type": "markdown",
   "metadata": {},
   "source": [
    "#### Observations:\n",
    "- We are tasked with running the analysis in batches, using less than 10 MB of memory.\n",
    "- To be safe, we will aim to stay under 5 MB with each chunk.\n",
    "- As 1000 rows uses ~1.6 MB, we will check 3000 rows."
   ]
  },
  {
   "cell_type": "markdown",
   "metadata": {},
   "source": [
    "#### Testing `chunksize=3000`"
   ]
  },
  {
   "cell_type": "code",
   "execution_count": 4,
   "metadata": {},
   "outputs": [
    {
     "name": "stdout",
     "output_type": "stream",
     "text": [
      "Memory Usage by Chunk in MB\n"
     ]
    },
    {
     "data": {
      "text/plain": [
       "[4.649059295654297,\n",
       " 4.644805908203125,\n",
       " 4.646563529968262,\n",
       " 4.647915840148926,\n",
       " 4.644108772277832,\n",
       " 4.645991325378418,\n",
       " 4.644582748413086,\n",
       " 4.646951675415039,\n",
       " 4.645077705383301,\n",
       " 4.64512825012207,\n",
       " 4.657840728759766,\n",
       " 4.656707763671875,\n",
       " 4.663515090942383,\n",
       " 4.896956443786621,\n",
       " 0.880854606628418]"
      ]
     },
     "execution_count": 4,
     "metadata": {},
     "output_type": "execute_result"
    },
    {
     "data": {
      "application/javascript": [
       "\n",
       "            setTimeout(function() {\n",
       "                var nbb_cell_id = 4;\n",
       "                var nbb_unformatted_code = \"print(\\\"Memory Usage by Chunk in MB\\\")\\nchunk_iter = pd.read_csv(\\\"loans_2007.csv\\\", chunksize=3000)\\n[chunk.memory_usage(deep=True).sum() / (2**20) for chunk in chunk_iter]\";\n",
       "                var nbb_formatted_code = \"print(\\\"Memory Usage by Chunk in MB\\\")\\nchunk_iter = pd.read_csv(\\\"loans_2007.csv\\\", chunksize=3000)\\n[chunk.memory_usage(deep=True).sum() / (2**20) for chunk in chunk_iter]\";\n",
       "                var nbb_cells = Jupyter.notebook.get_cells();\n",
       "                for (var i = 0; i < nbb_cells.length; ++i) {\n",
       "                    if (nbb_cells[i].input_prompt_number == nbb_cell_id) {\n",
       "                        if (nbb_cells[i].get_text() == nbb_unformatted_code) {\n",
       "                             nbb_cells[i].set_text(nbb_formatted_code);\n",
       "                        }\n",
       "                        break;\n",
       "                    }\n",
       "                }\n",
       "            }, 500);\n",
       "            "
      ],
      "text/plain": [
       "<IPython.core.display.Javascript object>"
      ]
     },
     "metadata": {},
     "output_type": "display_data"
    }
   ],
   "source": [
    "print(\"Memory Usage by Chunk in MB\")\n",
    "chunk_iter = pd.read_csv(\"loans_2007.csv\", chunksize=3000)\n",
    "[chunk.memory_usage(deep=True).sum() / (2**20) for chunk in chunk_iter]"
   ]
  },
  {
   "cell_type": "markdown",
   "metadata": {},
   "source": [
    "#### Observations:\n",
    "- 3000 is a good `chunksize` with all chunks using under 5 MB."
   ]
  },
  {
   "cell_type": "markdown",
   "metadata": {},
   "source": [
    "## Exploring Dataset by Each Chunk"
   ]
  },
  {
   "cell_type": "markdown",
   "metadata": {},
   "source": [
    "#### Checking Total Columns"
   ]
  },
  {
   "cell_type": "code",
   "execution_count": 5,
   "metadata": {},
   "outputs": [
    {
     "name": "stdout",
     "output_type": "stream",
     "text": [
      "There are 42538 total rows in the dataset.\n"
     ]
    },
    {
     "data": {
      "application/javascript": [
       "\n",
       "            setTimeout(function() {\n",
       "                var nbb_cell_id = 5;\n",
       "                var nbb_unformatted_code = \"chunk_iter = pd.read_csv(\\\"loans_2007.csv\\\", chunksize=3000)\\ntotal_rows = np.array([len(chunk) for chunk in chunk_iter]).sum()\\nprint(f\\\"There are {total_rows} total rows in the dataset.\\\")\";\n",
       "                var nbb_formatted_code = \"chunk_iter = pd.read_csv(\\\"loans_2007.csv\\\", chunksize=3000)\\ntotal_rows = np.array([len(chunk) for chunk in chunk_iter]).sum()\\nprint(f\\\"There are {total_rows} total rows in the dataset.\\\")\";\n",
       "                var nbb_cells = Jupyter.notebook.get_cells();\n",
       "                for (var i = 0; i < nbb_cells.length; ++i) {\n",
       "                    if (nbb_cells[i].input_prompt_number == nbb_cell_id) {\n",
       "                        if (nbb_cells[i].get_text() == nbb_unformatted_code) {\n",
       "                             nbb_cells[i].set_text(nbb_formatted_code);\n",
       "                        }\n",
       "                        break;\n",
       "                    }\n",
       "                }\n",
       "            }, 500);\n",
       "            "
      ],
      "text/plain": [
       "<IPython.core.display.Javascript object>"
      ]
     },
     "metadata": {},
     "output_type": "display_data"
    }
   ],
   "source": [
    "chunk_iter = pd.read_csv(\"loans_2007.csv\", chunksize=3000)\n",
    "total_rows = np.array([len(chunk) for chunk in chunk_iter]).sum()\n",
    "print(f\"There are {total_rows} total rows in the dataset.\")"
   ]
  },
  {
   "cell_type": "markdown",
   "metadata": {},
   "source": [
    "#### Checking Total Columns by Type"
   ]
  },
  {
   "cell_type": "code",
   "execution_count": 6,
   "metadata": {},
   "outputs": [
    {
     "name": "stdout",
     "output_type": "stream",
     "text": [
      "Object Columns for Each Chunk:\n",
      "\n",
      "[21, 21, 21, 21, 21, 21, 21, 21, 21, 21, 21, 21, 21, 22, 22] \n",
      "\n",
      "Numeric Columns for Each Chunk:\n"
     ]
    },
    {
     "data": {
      "text/plain": [
       "[31, 31, 31, 31, 31, 31, 31, 31, 31, 31, 31, 31, 31, 30, 30]"
      ]
     },
     "execution_count": 6,
     "metadata": {},
     "output_type": "execute_result"
    },
    {
     "data": {
      "application/javascript": [
       "\n",
       "            setTimeout(function() {\n",
       "                var nbb_cell_id = 6;\n",
       "                var nbb_unformatted_code = \"print('Object Columns for Each Chunk:\\\\n')\\nchunk_iter = pd.read_csv('loans_2007.csv', chunksize=3000)\\nprint([len(chunk.select_dtypes(['object']).columns) for chunk in chunk_iter], '\\\\n')\\n\\nprint('Numeric Columns for Each Chunk:')\\nchunk_iter = pd.read_csv('loans_2007.csv', chunksize=3000)\\n[len(chunk.select_dtypes(['float64', 'int64']).columns) for chunk in chunk_iter]\";\n",
       "                var nbb_formatted_code = \"print(\\\"Object Columns for Each Chunk:\\\\n\\\")\\nchunk_iter = pd.read_csv(\\\"loans_2007.csv\\\", chunksize=3000)\\nprint([len(chunk.select_dtypes([\\\"object\\\"]).columns) for chunk in chunk_iter], \\\"\\\\n\\\")\\n\\nprint(\\\"Numeric Columns for Each Chunk:\\\")\\nchunk_iter = pd.read_csv(\\\"loans_2007.csv\\\", chunksize=3000)\\n[len(chunk.select_dtypes([\\\"float64\\\", \\\"int64\\\"]).columns) for chunk in chunk_iter]\";\n",
       "                var nbb_cells = Jupyter.notebook.get_cells();\n",
       "                for (var i = 0; i < nbb_cells.length; ++i) {\n",
       "                    if (nbb_cells[i].input_prompt_number == nbb_cell_id) {\n",
       "                        if (nbb_cells[i].get_text() == nbb_unformatted_code) {\n",
       "                             nbb_cells[i].set_text(nbb_formatted_code);\n",
       "                        }\n",
       "                        break;\n",
       "                    }\n",
       "                }\n",
       "            }, 500);\n",
       "            "
      ],
      "text/plain": [
       "<IPython.core.display.Javascript object>"
      ]
     },
     "metadata": {},
     "output_type": "display_data"
    }
   ],
   "source": [
    "print('Object Columns for Each Chunk:\\n')\n",
    "chunk_iter = pd.read_csv('loans_2007.csv', chunksize=3000)\n",
    "print([len(chunk.select_dtypes(['object']).columns) for chunk in chunk_iter], '\\n')\n",
    "\n",
    "print('Numeric Columns for Each Chunk:')\n",
    "chunk_iter = pd.read_csv('loans_2007.csv', chunksize=3000)\n",
    "[len(chunk.select_dtypes(['float64', 'int64']).columns) for chunk in chunk_iter]"
   ]
  },
  {
   "cell_type": "markdown",
   "metadata": {},
   "source": [
    "#### Observations:\n",
    "- There is some variation in the number of object and numeric type columns between the chunks.\n",
    "- We can examine what changed more closely."
   ]
  },
  {
   "cell_type": "markdown",
   "metadata": {},
   "source": [
    "#### Checking Consistency of Numeric or Object Types across Chunks"
   ]
  },
  {
   "cell_type": "code",
   "execution_count": 7,
   "metadata": {},
   "outputs": [
    {
     "name": "stdout",
     "output_type": "stream",
     "text": [
      "acc_now_delinq              float64    15\n",
      "addr_state                  object     15\n",
      "annual_inc                  float64    15\n",
      "application_type            object     15\n",
      "chargeoff_within_12_mths    float64    15\n",
      "collection_recovery_fee     float64    15\n",
      "collections_12_mths_ex_med  float64    15\n",
      "delinq_2yrs                 float64    15\n",
      "delinq_amnt                 float64    15\n",
      "dti                         float64    15\n",
      "earliest_cr_line            object     15\n",
      "emp_length                  object     15\n",
      "emp_title                   object     15\n",
      "funded_amnt                 float64    15\n",
      "funded_amnt_inv             float64    15\n",
      "grade                       object     15\n",
      "home_ownership              object     15\n",
      "id                          int64      13\n",
      "                            object      2\n",
      "initial_list_status         object     15\n",
      "inq_last_6mths              float64    15\n",
      "installment                 float64    15\n",
      "int_rate                    object     15\n",
      "issue_d                     object     15\n",
      "last_credit_pull_d          object     15\n",
      "last_pymnt_amnt             float64    15\n",
      "last_pymnt_d                object     15\n",
      "loan_amnt                   float64    15\n",
      "loan_status                 object     15\n",
      "member_id                   float64    15\n",
      "open_acc                    float64    15\n",
      "out_prncp                   float64    15\n",
      "out_prncp_inv               float64    15\n",
      "policy_code                 float64    15\n",
      "pub_rec                     float64    15\n",
      "pub_rec_bankruptcies        float64    15\n",
      "purpose                     object     15\n",
      "pymnt_plan                  object     15\n",
      "recoveries                  float64    15\n",
      "revol_bal                   float64    15\n",
      "revol_util                  object     15\n",
      "sub_grade                   object     15\n",
      "tax_liens                   float64    15\n",
      "term                        object     15\n",
      "title                       object     15\n",
      "total_acc                   float64    15\n",
      "total_pymnt                 float64    15\n",
      "total_pymnt_inv             float64    15\n",
      "total_rec_int               float64    15\n",
      "total_rec_late_fee          float64    15\n",
      "total_rec_prncp             float64    15\n",
      "verification_status         object     15\n",
      "zip_code                    object     15\n",
      "dtype: int64\n"
     ]
    },
    {
     "data": {
      "application/javascript": [
       "\n",
       "            setTimeout(function() {\n",
       "                var nbb_cell_id = 7;\n",
       "                var nbb_unformatted_code = \"chunk_iter = pd.read_csv(\\\"loans_2007.csv\\\", chunksize=3000)\\nchunk_dtypes = pd.concat([chunk.dtypes for chunk in chunk_iter])\\noverall_dtypes = chunk_dtypes.groupby(chunk_dtypes.index).value_counts()\\nprint(overall_dtypes)\";\n",
       "                var nbb_formatted_code = \"chunk_iter = pd.read_csv(\\\"loans_2007.csv\\\", chunksize=3000)\\nchunk_dtypes = pd.concat([chunk.dtypes for chunk in chunk_iter])\\noverall_dtypes = chunk_dtypes.groupby(chunk_dtypes.index).value_counts()\\nprint(overall_dtypes)\";\n",
       "                var nbb_cells = Jupyter.notebook.get_cells();\n",
       "                for (var i = 0; i < nbb_cells.length; ++i) {\n",
       "                    if (nbb_cells[i].input_prompt_number == nbb_cell_id) {\n",
       "                        if (nbb_cells[i].get_text() == nbb_unformatted_code) {\n",
       "                             nbb_cells[i].set_text(nbb_formatted_code);\n",
       "                        }\n",
       "                        break;\n",
       "                    }\n",
       "                }\n",
       "            }, 500);\n",
       "            "
      ],
      "text/plain": [
       "<IPython.core.display.Javascript object>"
      ]
     },
     "metadata": {},
     "output_type": "display_data"
    }
   ],
   "source": [
    "chunk_iter = pd.read_csv(\"loans_2007.csv\", chunksize=3000)\n",
    "chunk_dtypes = pd.concat([chunk.dtypes for chunk in chunk_iter])\n",
    "overall_dtypes = chunk_dtypes.groupby(chunk_dtypes.index).value_counts()\n",
    "print(overall_dtypes)"
   ]
  },
  {
   "cell_type": "markdown",
   "metadata": {},
   "source": [
    "#### Observations:\n",
    "- `id` is the column that changes type from numeric to object in the last 2 chunks.\n",
    "- As a nominal feature it is not useful for analysis, so we can ignore it."
   ]
  },
  {
   "cell_type": "markdown",
   "metadata": {},
   "source": [
    "#### Creating Series of Overall Datatypes without `id`, `emp_title`, and `zip_code` from `overall_dtypes`"
   ]
  },
  {
   "cell_type": "code",
   "execution_count": 8,
   "metadata": {},
   "outputs": [
    {
     "name": "stdout",
     "output_type": "stream",
     "text": [
      "acc_now_delinq                float64\n",
      "addr_state                     object\n",
      "annual_inc                    float64\n",
      "application_type               object\n",
      "chargeoff_within_12_mths      float64\n",
      "collection_recovery_fee       float64\n",
      "collections_12_mths_ex_med    float64\n",
      "delinq_2yrs                   float64\n",
      "delinq_amnt                   float64\n",
      "dti                           float64\n",
      "earliest_cr_line               object\n",
      "emp_length                     object\n",
      "funded_amnt                   float64\n",
      "funded_amnt_inv               float64\n",
      "grade                          object\n",
      "home_ownership                 object\n",
      "initial_list_status            object\n",
      "inq_last_6mths                float64\n",
      "installment                   float64\n",
      "int_rate                       object\n",
      "issue_d                        object\n",
      "last_credit_pull_d             object\n",
      "last_pymnt_amnt               float64\n",
      "last_pymnt_d                   object\n",
      "loan_amnt                     float64\n",
      "loan_status                    object\n",
      "member_id                     float64\n",
      "open_acc                      float64\n",
      "out_prncp                     float64\n",
      "out_prncp_inv                 float64\n",
      "policy_code                   float64\n",
      "pub_rec                       float64\n",
      "pub_rec_bankruptcies          float64\n",
      "purpose                        object\n",
      "pymnt_plan                     object\n",
      "recoveries                    float64\n",
      "revol_bal                     float64\n",
      "revol_util                     object\n",
      "sub_grade                      object\n",
      "tax_liens                     float64\n",
      "term                           object\n",
      "title                          object\n",
      "total_acc                     float64\n",
      "total_pymnt                   float64\n",
      "total_pymnt_inv               float64\n",
      "total_rec_int                 float64\n",
      "total_rec_late_fee            float64\n",
      "total_rec_prncp               float64\n",
      "verification_status            object\n",
      "Name: level_1, dtype: object\n"
     ]
    },
    {
     "data": {
      "application/javascript": [
       "\n",
       "            setTimeout(function() {\n",
       "                var nbb_cell_id = 8;\n",
       "                var nbb_unformatted_code = \"# Create series of overall datatypes without id and emp_title columns from overall_dtypes above\\ndtypes_keep_cols = (\\n    overall_dtypes.drop([\\\"id\\\", \\\"emp_title\\\", \\\"zip_code\\\"])\\n    .reset_index(level=[1])\\n    .drop(0, axis=1)[\\\"level_1\\\"]\\n)\\nprint(dtypes_keep_cols)\";\n",
       "                var nbb_formatted_code = \"# Create series of overall datatypes without id and emp_title columns from overall_dtypes above\\ndtypes_keep_cols = (\\n    overall_dtypes.drop([\\\"id\\\", \\\"emp_title\\\", \\\"zip_code\\\"])\\n    .reset_index(level=[1])\\n    .drop(0, axis=1)[\\\"level_1\\\"]\\n)\\nprint(dtypes_keep_cols)\";\n",
       "                var nbb_cells = Jupyter.notebook.get_cells();\n",
       "                for (var i = 0; i < nbb_cells.length; ++i) {\n",
       "                    if (nbb_cells[i].input_prompt_number == nbb_cell_id) {\n",
       "                        if (nbb_cells[i].get_text() == nbb_unformatted_code) {\n",
       "                             nbb_cells[i].set_text(nbb_formatted_code);\n",
       "                        }\n",
       "                        break;\n",
       "                    }\n",
       "                }\n",
       "            }, 500);\n",
       "            "
      ],
      "text/plain": [
       "<IPython.core.display.Javascript object>"
      ]
     },
     "metadata": {},
     "output_type": "display_data"
    }
   ],
   "source": [
    "# Create series of overall datatypes without id and emp_title columns from overall_dtypes above\n",
    "dtypes_keep_cols = (\n",
    "    overall_dtypes.drop([\"id\", \"emp_title\", \"zip_code\"])\n",
    "    .reset_index(level=[1])\n",
    "    .drop(0, axis=1)[\"level_1\"]\n",
    ")\n",
    "print(dtypes_keep_cols)"
   ]
  },
  {
   "cell_type": "markdown",
   "metadata": {},
   "source": [
    "## Initial Memory Footprint"
   ]
  },
  {
   "cell_type": "code",
   "execution_count": 9,
   "metadata": {},
   "outputs": [
    {
     "name": "stdout",
     "output_type": "stream",
     "text": [
      "Total Memory Usage in MB:\n",
      "\n",
      "Index                         0.001884\n",
      "acc_now_delinq                0.324539\n",
      "addr_state                    2.393399\n",
      "annual_inc                    0.324539\n",
      "application_type              2.717916\n",
      "chargeoff_within_12_mths      0.324539\n",
      "collection_recovery_fee       0.324539\n",
      "collections_12_mths_ex_med    0.324539\n",
      "delinq_2yrs                   0.324539\n",
      "delinq_amnt                   0.324539\n",
      "dti                           0.324539\n",
      "earliest_cr_line              2.635874\n",
      "emp_length                    2.581555\n",
      "funded_amnt                   0.324539\n",
      "funded_amnt_inv               0.324539\n",
      "grade                         2.677351\n",
      "home_ownership                2.543880\n",
      "initial_list_status           2.677351\n",
      "inq_last_6mths                0.324539\n",
      "installment                   0.324539\n",
      "int_rate                      2.596222\n",
      "issue_d                       2.636786\n",
      "last_credit_pull_d            2.636661\n",
      "last_pymnt_amnt               0.324539\n",
      "last_pymnt_d                  2.634174\n",
      "loan_amnt                     0.324539\n",
      "loan_status                   2.826454\n",
      "member_id                     0.324539\n",
      "open_acc                      0.324539\n",
      "out_prncp                     0.324539\n",
      "out_prncp_inv                 0.324539\n",
      "policy_code                   0.324539\n",
      "pub_rec                       0.324539\n",
      "pub_rec_bankruptcies          0.324539\n",
      "purpose                       2.867644\n",
      "pymnt_plan                    2.677351\n",
      "recoveries                    0.324539\n",
      "revol_bal                     0.324539\n",
      "revol_util                    2.498210\n",
      "sub_grade                     2.393399\n",
      "tax_liens                     0.324539\n",
      "term                          2.717916\n",
      "title                         3.015544\n",
      "total_acc                     0.324539\n",
      "total_pymnt                   0.324539\n",
      "total_pymnt_inv               0.324539\n",
      "total_rec_int                 0.324539\n",
      "total_rec_late_fee            0.324539\n",
      "total_rec_prncp               0.324539\n",
      "verification_status           2.777143\n",
      "dtype: float64\n",
      "\n",
      "Total:  60.24 MB\n"
     ]
    },
    {
     "data": {
      "application/javascript": [
       "\n",
       "            setTimeout(function() {\n",
       "                var nbb_cell_id = 9;\n",
       "                var nbb_unformatted_code = \"print(\\\"Total Memory Usage in MB:\\\\n\\\")\\nchunk_iter = pd.read_csv(\\n    \\\"loans_2007.csv\\\", chunksize=3000, usecols=dtypes_keep_cols.index\\n)\\nchunk_memory = pd.concat([chunk.memory_usage(deep=True) for chunk in chunk_iter])\\ninitial_memory_usage = chunk_memory.groupby(chunk_memory.index).sum() / (2**20)\\nprint(initial_memory_usage)\\nprint(\\\"\\\")\\nprint(\\\"Total: \\\", np.round(initial_memory_usage.sum(), 2), \\\"MB\\\")\";\n",
       "                var nbb_formatted_code = \"print(\\\"Total Memory Usage in MB:\\\\n\\\")\\nchunk_iter = pd.read_csv(\\n    \\\"loans_2007.csv\\\", chunksize=3000, usecols=dtypes_keep_cols.index\\n)\\nchunk_memory = pd.concat([chunk.memory_usage(deep=True) for chunk in chunk_iter])\\ninitial_memory_usage = chunk_memory.groupby(chunk_memory.index).sum() / (2**20)\\nprint(initial_memory_usage)\\nprint(\\\"\\\")\\nprint(\\\"Total: \\\", np.round(initial_memory_usage.sum(), 2), \\\"MB\\\")\";\n",
       "                var nbb_cells = Jupyter.notebook.get_cells();\n",
       "                for (var i = 0; i < nbb_cells.length; ++i) {\n",
       "                    if (nbb_cells[i].input_prompt_number == nbb_cell_id) {\n",
       "                        if (nbb_cells[i].get_text() == nbb_unformatted_code) {\n",
       "                             nbb_cells[i].set_text(nbb_formatted_code);\n",
       "                        }\n",
       "                        break;\n",
       "                    }\n",
       "                }\n",
       "            }, 500);\n",
       "            "
      ],
      "text/plain": [
       "<IPython.core.display.Javascript object>"
      ]
     },
     "metadata": {},
     "output_type": "display_data"
    }
   ],
   "source": [
    "print(\"Total Memory Usage in MB:\\n\")\n",
    "chunk_iter = pd.read_csv(\n",
    "    \"loans_2007.csv\", chunksize=3000, usecols=dtypes_keep_cols.index\n",
    ")\n",
    "chunk_memory = pd.concat([chunk.memory_usage(deep=True) for chunk in chunk_iter])\n",
    "initial_memory_usage = chunk_memory.groupby(chunk_memory.index).sum() / (2**20)\n",
    "print(initial_memory_usage)\n",
    "print(\"\")\n",
    "print(\"Total: \", np.round(initial_memory_usage.sum(), 2), \"MB\")"
   ]
  },
  {
   "cell_type": "markdown",
   "metadata": {},
   "source": [
    "#### Observations:\n",
    "- Our task now is to improve upon the total ~60 MB memory usage via typecasting columns appropriately."
   ]
  },
  {
   "cell_type": "markdown",
   "metadata": {},
   "source": [
    "#### Checking Number of Unique Values for Each Column for Potential Category Type"
   ]
  },
  {
   "cell_type": "code",
   "execution_count": 10,
   "metadata": {},
   "outputs": [
    {
     "name": "stdout",
     "output_type": "stream",
     "text": [
      "Number of Unique Values\n",
      "addr_state : 50\n",
      "application_type : 1\n",
      "emp_length : 11\n",
      "grade : 7\n",
      "home_ownership : 5\n",
      "initial_list_status : 1\n",
      "loan_status : 9\n",
      "purpose : 14\n",
      "pymnt_plan : 2\n",
      "sub_grade : 35\n",
      "term : 2\n",
      "title : 21264\n",
      "verification_status : 3\n",
      "\n",
      "There are 13 columns that have fewer than 50% of values are unique:\n",
      "\n",
      "['addr_state', 'application_type', 'emp_length', 'grade', 'home_ownership', 'initial_list_status', 'loan_status', 'purpose', 'pymnt_plan', 'sub_grade', 'term', 'title', 'verification_status']\n"
     ]
    },
    {
     "data": {
      "application/javascript": [
       "\n",
       "            setTimeout(function() {\n",
       "                var nbb_cell_id = 10;\n",
       "                var nbb_unformatted_code = \"exclude_cols = [\\n    \\\"int_rate\\\",\\n    \\\"revol_util\\\",\\n    \\\"issue_d\\\",\\n    \\\"earliest_cr_line\\\",\\n    \\\"last_pymnt_d\\\",\\n    \\\"last_credit_pull_d\\\",\\n]\\ncat_cols = (\\n    dtypes_keep_cols[dtypes_keep_cols == \\\"object\\\"].drop(exclude_cols).index.tolist()\\n)\\n\\nprint(\\\"Number of Unique Values\\\")\\ncat_candidates = []\\nfor col in cat_cols:\\n    chunk_iter = pd.read_csv(\\\"loans_2007.csv\\\", chunksize=3000, usecols=[col])\\n    chunk_vcs = pd.concat([chunk[col].value_counts() for chunk in chunk_iter])\\n    total_vcs = chunk_vcs.groupby(chunk_vcs.index).sum()\\n    print(col, \\\":\\\", len(total_vcs))\\n    if len(total_vcs.index) / total_rows < 0.5:\\n        cat_candidates.append(col)\\nprint(\\n    f\\\"\\\\nThere are {len(cat_candidates)} columns that have fewer than 50% of values are unique:\\\\n\\\"\\n)\\nprint(cat_candidates)\\ncol_types = {col: \\\"category\\\" for col in cat_candidates}\";\n",
       "                var nbb_formatted_code = \"exclude_cols = [\\n    \\\"int_rate\\\",\\n    \\\"revol_util\\\",\\n    \\\"issue_d\\\",\\n    \\\"earliest_cr_line\\\",\\n    \\\"last_pymnt_d\\\",\\n    \\\"last_credit_pull_d\\\",\\n]\\ncat_cols = (\\n    dtypes_keep_cols[dtypes_keep_cols == \\\"object\\\"].drop(exclude_cols).index.tolist()\\n)\\n\\nprint(\\\"Number of Unique Values\\\")\\ncat_candidates = []\\nfor col in cat_cols:\\n    chunk_iter = pd.read_csv(\\\"loans_2007.csv\\\", chunksize=3000, usecols=[col])\\n    chunk_vcs = pd.concat([chunk[col].value_counts() for chunk in chunk_iter])\\n    total_vcs = chunk_vcs.groupby(chunk_vcs.index).sum()\\n    print(col, \\\":\\\", len(total_vcs))\\n    if len(total_vcs.index) / total_rows < 0.5:\\n        cat_candidates.append(col)\\nprint(\\n    f\\\"\\\\nThere are {len(cat_candidates)} columns that have fewer than 50% of values are unique:\\\\n\\\"\\n)\\nprint(cat_candidates)\\ncol_types = {col: \\\"category\\\" for col in cat_candidates}\";\n",
       "                var nbb_cells = Jupyter.notebook.get_cells();\n",
       "                for (var i = 0; i < nbb_cells.length; ++i) {\n",
       "                    if (nbb_cells[i].input_prompt_number == nbb_cell_id) {\n",
       "                        if (nbb_cells[i].get_text() == nbb_unformatted_code) {\n",
       "                             nbb_cells[i].set_text(nbb_formatted_code);\n",
       "                        }\n",
       "                        break;\n",
       "                    }\n",
       "                }\n",
       "            }, 500);\n",
       "            "
      ],
      "text/plain": [
       "<IPython.core.display.Javascript object>"
      ]
     },
     "metadata": {},
     "output_type": "display_data"
    }
   ],
   "source": [
    "exclude_cols = [\n",
    "    \"int_rate\",\n",
    "    \"revol_util\",\n",
    "    \"issue_d\",\n",
    "    \"earliest_cr_line\",\n",
    "    \"last_pymnt_d\",\n",
    "    \"last_credit_pull_d\",\n",
    "]\n",
    "cat_cols = (\n",
    "    dtypes_keep_cols[dtypes_keep_cols == \"object\"].drop(exclude_cols).index.tolist()\n",
    ")\n",
    "\n",
    "print(\"Number of Unique Values\")\n",
    "cat_candidates = []\n",
    "for col in cat_cols:\n",
    "    chunk_iter = pd.read_csv(\"loans_2007.csv\", chunksize=3000, usecols=[col])\n",
    "    chunk_vcs = pd.concat([chunk[col].value_counts() for chunk in chunk_iter])\n",
    "    total_vcs = chunk_vcs.groupby(chunk_vcs.index).sum()\n",
    "    print(col, \":\", len(total_vcs))\n",
    "    if len(total_vcs.index) / total_rows < 0.5:\n",
    "        cat_candidates.append(col)\n",
    "print(\n",
    "    f\"\\nThere are {len(cat_candidates)} columns that have fewer than 50% of values are unique:\\n\"\n",
    ")\n",
    "print(cat_candidates)\n",
    "col_types = {col: \"category\" for col in cat_candidates}"
   ]
  },
  {
   "cell_type": "markdown",
   "metadata": {},
   "source": [
    "#### Observations:\n",
    "- As suspected, `title` has numerous unique values and is not likely to add value to the analysis.  We will ignore it.\n",
    "- The remaining object type columns with low unique values can be cast as category."
   ]
  },
  {
   "cell_type": "markdown",
   "metadata": {},
   "source": [
    "#### Excluding `title`"
   ]
  },
  {
   "cell_type": "code",
   "execution_count": 11,
   "metadata": {},
   "outputs": [
    {
     "data": {
      "application/javascript": [
       "\n",
       "            setTimeout(function() {\n",
       "                var nbb_cell_id = 11;\n",
       "                var nbb_unformatted_code = \"dtypes_keep_cols.drop(\\\"title\\\", inplace=True)\\ncat_candidates.remove(\\\"title\\\")\";\n",
       "                var nbb_formatted_code = \"dtypes_keep_cols.drop(\\\"title\\\", inplace=True)\\ncat_candidates.remove(\\\"title\\\")\";\n",
       "                var nbb_cells = Jupyter.notebook.get_cells();\n",
       "                for (var i = 0; i < nbb_cells.length; ++i) {\n",
       "                    if (nbb_cells[i].input_prompt_number == nbb_cell_id) {\n",
       "                        if (nbb_cells[i].get_text() == nbb_unformatted_code) {\n",
       "                             nbb_cells[i].set_text(nbb_formatted_code);\n",
       "                        }\n",
       "                        break;\n",
       "                    }\n",
       "                }\n",
       "            }, 500);\n",
       "            "
      ],
      "text/plain": [
       "<IPython.core.display.Javascript object>"
      ]
     },
     "metadata": {},
     "output_type": "display_data"
    }
   ],
   "source": [
    "dtypes_keep_cols.drop(\"title\", inplace=True)\n",
    "cat_candidates.remove(\"title\")"
   ]
  },
  {
   "cell_type": "markdown",
   "metadata": {},
   "source": [
    "#### Creating Dictionary for `coltypes` for Use in `chunk_iter`"
   ]
  },
  {
   "cell_type": "code",
   "execution_count": 12,
   "metadata": {},
   "outputs": [
    {
     "data": {
      "application/javascript": [
       "\n",
       "            setTimeout(function() {\n",
       "                var nbb_cell_id = 12;\n",
       "                var nbb_unformatted_code = \"col_types = {col: \\\"category\\\" for col in cat_candidates}\";\n",
       "                var nbb_formatted_code = \"col_types = {col: \\\"category\\\" for col in cat_candidates}\";\n",
       "                var nbb_cells = Jupyter.notebook.get_cells();\n",
       "                for (var i = 0; i < nbb_cells.length; ++i) {\n",
       "                    if (nbb_cells[i].input_prompt_number == nbb_cell_id) {\n",
       "                        if (nbb_cells[i].get_text() == nbb_unformatted_code) {\n",
       "                             nbb_cells[i].set_text(nbb_formatted_code);\n",
       "                        }\n",
       "                        break;\n",
       "                    }\n",
       "                }\n",
       "            }, 500);\n",
       "            "
      ],
      "text/plain": [
       "<IPython.core.display.Javascript object>"
      ]
     },
     "metadata": {},
     "output_type": "display_data"
    }
   ],
   "source": [
    "col_types = {col: \"category\" for col in cat_candidates}"
   ]
  },
  {
   "cell_type": "markdown",
   "metadata": {},
   "source": [
    "#### Checking for Numerical Columns that can be Downcast"
   ]
  },
  {
   "cell_type": "code",
   "execution_count": 13,
   "metadata": {},
   "outputs": [
    {
     "name": "stdout",
     "output_type": "stream",
     "text": [
      "Total Missing Values\n",
      "acc_now_delinq :  32\n",
      "annual_inc :  7\n",
      "chargeoff_within_12_mths :  148\n",
      "collection_recovery_fee :  3\n",
      "collections_12_mths_ex_med :  148\n",
      "delinq_2yrs :  32\n",
      "delinq_amnt :  32\n",
      "dti :  3\n",
      "funded_amnt :  3\n",
      "funded_amnt_inv :  3\n",
      "inq_last_6mths :  32\n",
      "installment :  3\n",
      "last_pymnt_amnt :  3\n",
      "loan_amnt :  3\n",
      "member_id :  3\n",
      "open_acc :  32\n",
      "out_prncp :  3\n",
      "out_prncp_inv :  3\n",
      "policy_code :  3\n",
      "pub_rec :  32\n",
      "pub_rec_bankruptcies :  1368\n",
      "recoveries :  3\n",
      "revol_bal :  3\n",
      "tax_liens :  108\n",
      "total_acc :  32\n",
      "total_pymnt :  3\n",
      "total_pymnt_inv :  3\n",
      "total_rec_int :  3\n",
      "total_rec_late_fee :  3\n",
      "total_rec_prncp :  3\n",
      "\n",
      "There are 0 remaining numeric columns without missing values.\n"
     ]
    },
    {
     "data": {
      "application/javascript": [
       "\n",
       "            setTimeout(function() {\n",
       "                var nbb_cell_id = 13;\n",
       "                var nbb_unformatted_code = \"num_cols = dtypes_keep_cols[dtypes_keep_cols == \\\"float64\\\"].index.tolist()\\n\\nprint(\\\"Total Missing Values\\\")\\ncols_to_int = []\\nfor col in num_cols:\\n    chunk_iter = pd.read_csv(\\\"loans_2007.csv\\\", chunksize=3000, usecols=[col])\\n    total_nulls = np.array([chunk[col].isna().sum() for chunk in chunk_iter]).sum()\\n    print(col, \\\": \\\", total_nulls)\\n    if total_nulls == 0:\\n        cols_to_int.append(col)\\nprint(\\\"\\\")\\nprint(f\\\"There are {len(cols_to_int)} remaining numeric columns without missing values.\\\")\";\n",
       "                var nbb_formatted_code = \"num_cols = dtypes_keep_cols[dtypes_keep_cols == \\\"float64\\\"].index.tolist()\\n\\nprint(\\\"Total Missing Values\\\")\\ncols_to_int = []\\nfor col in num_cols:\\n    chunk_iter = pd.read_csv(\\\"loans_2007.csv\\\", chunksize=3000, usecols=[col])\\n    total_nulls = np.array([chunk[col].isna().sum() for chunk in chunk_iter]).sum()\\n    print(col, \\\": \\\", total_nulls)\\n    if total_nulls == 0:\\n        cols_to_int.append(col)\\nprint(\\\"\\\")\\nprint(f\\\"There are {len(cols_to_int)} remaining numeric columns without missing values.\\\")\";\n",
       "                var nbb_cells = Jupyter.notebook.get_cells();\n",
       "                for (var i = 0; i < nbb_cells.length; ++i) {\n",
       "                    if (nbb_cells[i].input_prompt_number == nbb_cell_id) {\n",
       "                        if (nbb_cells[i].get_text() == nbb_unformatted_code) {\n",
       "                             nbb_cells[i].set_text(nbb_formatted_code);\n",
       "                        }\n",
       "                        break;\n",
       "                    }\n",
       "                }\n",
       "            }, 500);\n",
       "            "
      ],
      "text/plain": [
       "<IPython.core.display.Javascript object>"
      ]
     },
     "metadata": {},
     "output_type": "display_data"
    }
   ],
   "source": [
    "num_cols = dtypes_keep_cols[dtypes_keep_cols == \"float64\"].index.tolist()\n",
    "\n",
    "print(\"Total Missing Values\")\n",
    "cols_to_int = []\n",
    "for col in num_cols:\n",
    "    chunk_iter = pd.read_csv(\"loans_2007.csv\", chunksize=3000, usecols=[col])\n",
    "    total_nulls = np.array([chunk[col].isna().sum() for chunk in chunk_iter]).sum()\n",
    "    print(col, \": \", total_nulls)\n",
    "    if total_nulls == 0:\n",
    "        cols_to_int.append(col)\n",
    "print(\"\")\n",
    "print(f\"There are {len(cols_to_int)} remaining numeric columns without missing values.\")"
   ]
  },
  {
   "cell_type": "markdown",
   "metadata": {},
   "source": [
    "#### Observations:\n",
    "- All of the remaining numeric columns have missing values, so they will remain as float to accommodate NaNs.\n",
    "- However, we can check to see if downcasting to a less memory-intensive float type is possible."
   ]
  },
  {
   "cell_type": "code",
   "execution_count": 14,
   "metadata": {},
   "outputs": [
    {
     "data": {
      "text/plain": [
       "{'addr_state': 'category',\n",
       " 'application_type': 'category',\n",
       " 'emp_length': 'category',\n",
       " 'grade': 'category',\n",
       " 'home_ownership': 'category',\n",
       " 'initial_list_status': 'category',\n",
       " 'loan_status': 'category',\n",
       " 'purpose': 'category',\n",
       " 'pymnt_plan': 'category',\n",
       " 'sub_grade': 'category',\n",
       " 'term': 'category',\n",
       " 'verification_status': 'category',\n",
       " 'acc_now_delinq': 'float32',\n",
       " 'annual_inc': 'float32',\n",
       " 'chargeoff_within_12_mths': 'float32',\n",
       " 'collection_recovery_fee': 'float32',\n",
       " 'collections_12_mths_ex_med': 'float32',\n",
       " 'delinq_2yrs': 'float32',\n",
       " 'delinq_amnt': 'float32',\n",
       " 'dti': 'float32',\n",
       " 'funded_amnt': 'float32',\n",
       " 'funded_amnt_inv': 'float32',\n",
       " 'inq_last_6mths': 'float32',\n",
       " 'installment': 'float32',\n",
       " 'last_pymnt_amnt': 'float32',\n",
       " 'loan_amnt': 'float32',\n",
       " 'member_id': 'float32',\n",
       " 'open_acc': 'float32',\n",
       " 'out_prncp': 'float32',\n",
       " 'out_prncp_inv': 'float32',\n",
       " 'policy_code': 'float32',\n",
       " 'pub_rec': 'float32',\n",
       " 'pub_rec_bankruptcies': 'float32',\n",
       " 'recoveries': 'float32',\n",
       " 'revol_bal': 'float32',\n",
       " 'tax_liens': 'float32',\n",
       " 'total_acc': 'float32',\n",
       " 'total_pymnt': 'float32',\n",
       " 'total_pymnt_inv': 'float32',\n",
       " 'total_rec_int': 'float32',\n",
       " 'total_rec_late_fee': 'float32',\n",
       " 'total_rec_prncp': 'float32'}"
      ]
     },
     "execution_count": 14,
     "metadata": {},
     "output_type": "execute_result"
    },
    {
     "data": {
      "application/javascript": [
       "\n",
       "            setTimeout(function() {\n",
       "                var nbb_cell_id = 14;\n",
       "                var nbb_unformatted_code = \"chunk_iter = pd.read_csv(\\\"loans_2007.csv\\\", chunksize=3000)\\n\\nmapping = {\\\"float16\\\": 0, \\\"float32\\\": 1, \\\"float64\\\": 2}\\nfor col in num_cols:\\n    for chunk in chunk_iter:\\n        low_type = \\\"float16\\\"\\n        chunk[col] = pd.to_numeric(chunk[col], downcast=\\\"float\\\")\\n        if mapping[str(chunk[col].dtype)] > mapping[low_type]:\\n            low_type = str(chunk[col].dtype)\\n    col_types[col] = low_type\\ncol_types\";\n",
       "                var nbb_formatted_code = \"chunk_iter = pd.read_csv(\\\"loans_2007.csv\\\", chunksize=3000)\\n\\nmapping = {\\\"float16\\\": 0, \\\"float32\\\": 1, \\\"float64\\\": 2}\\nfor col in num_cols:\\n    for chunk in chunk_iter:\\n        low_type = \\\"float16\\\"\\n        chunk[col] = pd.to_numeric(chunk[col], downcast=\\\"float\\\")\\n        if mapping[str(chunk[col].dtype)] > mapping[low_type]:\\n            low_type = str(chunk[col].dtype)\\n    col_types[col] = low_type\\ncol_types\";\n",
       "                var nbb_cells = Jupyter.notebook.get_cells();\n",
       "                for (var i = 0; i < nbb_cells.length; ++i) {\n",
       "                    if (nbb_cells[i].input_prompt_number == nbb_cell_id) {\n",
       "                        if (nbb_cells[i].get_text() == nbb_unformatted_code) {\n",
       "                             nbb_cells[i].set_text(nbb_formatted_code);\n",
       "                        }\n",
       "                        break;\n",
       "                    }\n",
       "                }\n",
       "            }, 500);\n",
       "            "
      ],
      "text/plain": [
       "<IPython.core.display.Javascript object>"
      ]
     },
     "metadata": {},
     "output_type": "display_data"
    }
   ],
   "source": [
    "chunk_iter = pd.read_csv(\"loans_2007.csv\", chunksize=3000)\n",
    "\n",
    "mapping = {\"float16\": 0, \"float32\": 1, \"float64\": 2}\n",
    "for col in num_cols:\n",
    "    for chunk in chunk_iter:\n",
    "        low_type = \"float16\"\n",
    "        chunk[col] = pd.to_numeric(chunk[col], downcast=\"float\")\n",
    "        if mapping[str(chunk[col].dtype)] > mapping[low_type]:\n",
    "            low_type = str(chunk[col].dtype)\n",
    "    col_types[col] = low_type\n",
    "col_types"
   ]
  },
  {
   "cell_type": "markdown",
   "metadata": {},
   "source": [
    "#### Observations:\n",
    "- All of the float type columns will fit into float32 type, an improvement over float64."
   ]
  },
  {
   "cell_type": "markdown",
   "metadata": {},
   "source": [
    "## Addressing the Remaining Object Columns\n",
    "- The remaining columns in `excluded_cols` include the dates and the float values with \"%\".\n",
    "- We can create a dictionary of functions to convert them using the `converters` parameter of `pd.read_csv()'."
   ]
  },
  {
   "cell_type": "markdown",
   "metadata": {},
   "source": [
    "#### View the First 5 Rows"
   ]
  },
  {
   "cell_type": "code",
   "execution_count": 15,
   "metadata": {},
   "outputs": [
    {
     "data": {
      "text/html": [
       "<div>\n",
       "<style scoped>\n",
       "    .dataframe tbody tr th:only-of-type {\n",
       "        vertical-align: middle;\n",
       "    }\n",
       "\n",
       "    .dataframe tbody tr th {\n",
       "        vertical-align: top;\n",
       "    }\n",
       "\n",
       "    .dataframe thead th {\n",
       "        text-align: right;\n",
       "    }\n",
       "</style>\n",
       "<table border=\"1\" class=\"dataframe\">\n",
       "  <thead>\n",
       "    <tr style=\"text-align: right;\">\n",
       "      <th></th>\n",
       "      <th>int_rate</th>\n",
       "      <th>revol_util</th>\n",
       "      <th>issue_d</th>\n",
       "      <th>earliest_cr_line</th>\n",
       "      <th>last_pymnt_d</th>\n",
       "      <th>last_credit_pull_d</th>\n",
       "    </tr>\n",
       "  </thead>\n",
       "  <tbody>\n",
       "    <tr>\n",
       "      <th>0</th>\n",
       "      <td>10.65%</td>\n",
       "      <td>83.7%</td>\n",
       "      <td>Dec-2011</td>\n",
       "      <td>Jan-1985</td>\n",
       "      <td>Jan-2015</td>\n",
       "      <td>Jun-2016</td>\n",
       "    </tr>\n",
       "    <tr>\n",
       "      <th>1</th>\n",
       "      <td>15.27%</td>\n",
       "      <td>9.4%</td>\n",
       "      <td>Dec-2011</td>\n",
       "      <td>Apr-1999</td>\n",
       "      <td>Apr-2013</td>\n",
       "      <td>Sep-2013</td>\n",
       "    </tr>\n",
       "    <tr>\n",
       "      <th>2</th>\n",
       "      <td>15.96%</td>\n",
       "      <td>98.5%</td>\n",
       "      <td>Dec-2011</td>\n",
       "      <td>Nov-2001</td>\n",
       "      <td>Jun-2014</td>\n",
       "      <td>Jun-2016</td>\n",
       "    </tr>\n",
       "    <tr>\n",
       "      <th>3</th>\n",
       "      <td>13.49%</td>\n",
       "      <td>21%</td>\n",
       "      <td>Dec-2011</td>\n",
       "      <td>Feb-1996</td>\n",
       "      <td>Jan-2015</td>\n",
       "      <td>Apr-2016</td>\n",
       "    </tr>\n",
       "    <tr>\n",
       "      <th>4</th>\n",
       "      <td>12.69%</td>\n",
       "      <td>53.9%</td>\n",
       "      <td>Dec-2011</td>\n",
       "      <td>Jan-1996</td>\n",
       "      <td>Jun-2016</td>\n",
       "      <td>Jun-2016</td>\n",
       "    </tr>\n",
       "  </tbody>\n",
       "</table>\n",
       "</div>"
      ],
      "text/plain": [
       "  int_rate revol_util   issue_d earliest_cr_line last_pymnt_d  \\\n",
       "0   10.65%      83.7%  Dec-2011         Jan-1985     Jan-2015   \n",
       "1   15.27%       9.4%  Dec-2011         Apr-1999     Apr-2013   \n",
       "2   15.96%      98.5%  Dec-2011         Nov-2001     Jun-2014   \n",
       "3   13.49%        21%  Dec-2011         Feb-1996     Jan-2015   \n",
       "4   12.69%      53.9%  Dec-2011         Jan-1996     Jun-2016   \n",
       "\n",
       "  last_credit_pull_d  \n",
       "0           Jun-2016  \n",
       "1           Sep-2013  \n",
       "2           Jun-2016  \n",
       "3           Apr-2016  \n",
       "4           Jun-2016  "
      ]
     },
     "execution_count": 15,
     "metadata": {},
     "output_type": "execute_result"
    },
    {
     "data": {
      "application/javascript": [
       "\n",
       "            setTimeout(function() {\n",
       "                var nbb_cell_id = 15;\n",
       "                var nbb_unformatted_code = \"first_5[exclude_cols]\";\n",
       "                var nbb_formatted_code = \"first_5[exclude_cols]\";\n",
       "                var nbb_cells = Jupyter.notebook.get_cells();\n",
       "                for (var i = 0; i < nbb_cells.length; ++i) {\n",
       "                    if (nbb_cells[i].input_prompt_number == nbb_cell_id) {\n",
       "                        if (nbb_cells[i].get_text() == nbb_unformatted_code) {\n",
       "                             nbb_cells[i].set_text(nbb_formatted_code);\n",
       "                        }\n",
       "                        break;\n",
       "                    }\n",
       "                }\n",
       "            }, 500);\n",
       "            "
      ],
      "text/plain": [
       "<IPython.core.display.Javascript object>"
      ]
     },
     "metadata": {},
     "output_type": "display_data"
    }
   ],
   "source": [
    "first_5[exclude_cols]"
   ]
  },
  {
   "cell_type": "markdown",
   "metadata": {},
   "source": [
    "#### Converter Function for `int_rate` and `revol_util`"
   ]
  },
  {
   "cell_type": "code",
   "execution_count": 17,
   "metadata": {},
   "outputs": [
    {
     "data": {
      "application/javascript": [
       "\n",
       "            setTimeout(function() {\n",
       "                var nbb_cell_id = 17;\n",
       "                var nbb_unformatted_code = \"def str_to_float(x):\\n    if x != \\\"\\\":\\n        x = float(x.strip(\\\" %\\\"))\\n    else:\\n        x = np.nan\\n    return x\";\n",
       "                var nbb_formatted_code = \"def str_to_float(x):\\n    if x != \\\"\\\":\\n        x = float(x.strip(\\\" %\\\"))\\n    else:\\n        x = np.nan\\n    return x\";\n",
       "                var nbb_cells = Jupyter.notebook.get_cells();\n",
       "                for (var i = 0; i < nbb_cells.length; ++i) {\n",
       "                    if (nbb_cells[i].input_prompt_number == nbb_cell_id) {\n",
       "                        if (nbb_cells[i].get_text() == nbb_unformatted_code) {\n",
       "                             nbb_cells[i].set_text(nbb_formatted_code);\n",
       "                        }\n",
       "                        break;\n",
       "                    }\n",
       "                }\n",
       "            }, 500);\n",
       "            "
      ],
      "text/plain": [
       "<IPython.core.display.Javascript object>"
      ]
     },
     "metadata": {},
     "output_type": "display_data"
    }
   ],
   "source": [
    "def str_to_float(x):\n",
    "    if x != \"\":\n",
    "        x = float(x.strip(\" %\"))\n",
    "    else:\n",
    "        x = np.nan\n",
    "    return x"
   ]
  },
  {
   "cell_type": "markdown",
   "metadata": {},
   "source": [
    "#### Defining `converters` Dictionary"
   ]
  },
  {
   "cell_type": "code",
   "execution_count": 68,
   "metadata": {},
   "outputs": [
    {
     "data": {
      "application/javascript": [
       "\n",
       "            setTimeout(function() {\n",
       "                var nbb_cell_id = 68;\n",
       "                var nbb_unformatted_code = \"converters = {\\n    \\\"issue_d\\\": lambda x: pd.to_datetime(x, format=\\\"%b-%Y\\\", errors=\\\"coerce\\\"),\\n    'earliest_cr_line': lambda x: pd.to_datetime(x, format='%b-%Y', errors='coerce'),\\n    \\\"last_pymnt_d\\\": lambda x: pd.to_datetime(x, format=\\\"%b-%Y\\\", errors=\\\"coerce\\\"),\\n    \\\"last_credit_pull_d\\\": lambda x: pd.to_datetime(x, format=\\\"%b-%Y\\\", errors=\\\"coerce\\\"),\\n    \\\"int_rate\\\": lambda x: str_to_float(x),\\n    \\\"revol_util\\\": lambda x: str_to_float(x),\\n}\";\n",
       "                var nbb_formatted_code = \"converters = {\\n    \\\"issue_d\\\": lambda x: pd.to_datetime(x, format=\\\"%b-%Y\\\", errors=\\\"coerce\\\"),\\n    \\\"earliest_cr_line\\\": lambda x: pd.to_datetime(x, format=\\\"%b-%Y\\\", errors=\\\"coerce\\\"),\\n    \\\"last_pymnt_d\\\": lambda x: pd.to_datetime(x, format=\\\"%b-%Y\\\", errors=\\\"coerce\\\"),\\n    \\\"last_credit_pull_d\\\": lambda x: pd.to_datetime(x, format=\\\"%b-%Y\\\", errors=\\\"coerce\\\"),\\n    \\\"int_rate\\\": lambda x: str_to_float(x),\\n    \\\"revol_util\\\": lambda x: str_to_float(x),\\n}\";\n",
       "                var nbb_cells = Jupyter.notebook.get_cells();\n",
       "                for (var i = 0; i < nbb_cells.length; ++i) {\n",
       "                    if (nbb_cells[i].input_prompt_number == nbb_cell_id) {\n",
       "                        if (nbb_cells[i].get_text() == nbb_unformatted_code) {\n",
       "                             nbb_cells[i].set_text(nbb_formatted_code);\n",
       "                        }\n",
       "                        break;\n",
       "                    }\n",
       "                }\n",
       "            }, 500);\n",
       "            "
      ],
      "text/plain": [
       "<IPython.core.display.Javascript object>"
      ]
     },
     "metadata": {},
     "output_type": "display_data"
    }
   ],
   "source": [
    "converters = {\n",
    "    \"issue_d\": lambda x: pd.to_datetime(x, format=\"%b-%Y\", errors=\"coerce\"),\n",
    "    \"earliest_cr_line\": lambda x: pd.to_datetime(x, format=\"%b-%Y\", errors=\"coerce\"),\n",
    "    \"last_pymnt_d\": lambda x: pd.to_datetime(x, format=\"%b-%Y\", errors=\"coerce\"),\n",
    "    \"last_credit_pull_d\": lambda x: pd.to_datetime(x, format=\"%b-%Y\", errors=\"coerce\"),\n",
    "    \"int_rate\": lambda x: str_to_float(x),\n",
    "    \"revol_util\": lambda x: str_to_float(x),\n",
    "}"
   ]
  },
  {
   "cell_type": "markdown",
   "metadata": {},
   "source": [
    "#### Observations:\n",
    "- As we are coercing the errors to NaT values for datetime columns, we should check that missing values are not excessive."
   ]
  },
  {
   "cell_type": "markdown",
   "metadata": {},
   "source": [
    "#### Checking Missing Values for datetime Columns"
   ]
  },
  {
   "cell_type": "code",
   "execution_count": 70,
   "metadata": {},
   "outputs": [
    {
     "name": "stdout",
     "output_type": "stream",
     "text": [
      "[0, 0, 0, 0, 0, 0, 0, 0, 0, 0, 0, 0, 0, 1, 2]\n",
      "[0, 0, 0, 0, 0, 0, 0, 0, 0, 0, 0, 0, 0, 1, 31]\n",
      "[2, 5, 8, 6, 9, 4, 4, 1, 4, 6, 8, 9, 5, 13, 2]\n",
      "[0, 0, 0, 0, 0, 0, 0, 0, 1, 0, 0, 0, 0, 2, 4]\n"
     ]
    },
    {
     "data": {
      "application/javascript": [
       "\n",
       "            setTimeout(function() {\n",
       "                var nbb_cell_id = 70;\n",
       "                var nbb_unformatted_code = \"for col in [\\\"issue_d\\\", 'earliest_cr_line', \\\"last_pymnt_d\\\", \\\"last_credit_pull_d\\\"]:\\n    chunk_iter = pd.read_csv(\\n        \\\"loans_2007.csv\\\",\\n        chunksize=3000,\\n        converters=converters,\\n        dtype=col_types,\\n        usecols=[col],\\n    )\\n    print([chunk[col].isna().sum() for chunk in chunk_iter])\";\n",
       "                var nbb_formatted_code = \"for col in [\\\"issue_d\\\", \\\"earliest_cr_line\\\", \\\"last_pymnt_d\\\", \\\"last_credit_pull_d\\\"]:\\n    chunk_iter = pd.read_csv(\\n        \\\"loans_2007.csv\\\",\\n        chunksize=3000,\\n        converters=converters,\\n        dtype=col_types,\\n        usecols=[col],\\n    )\\n    print([chunk[col].isna().sum() for chunk in chunk_iter])\";\n",
       "                var nbb_cells = Jupyter.notebook.get_cells();\n",
       "                for (var i = 0; i < nbb_cells.length; ++i) {\n",
       "                    if (nbb_cells[i].input_prompt_number == nbb_cell_id) {\n",
       "                        if (nbb_cells[i].get_text() == nbb_unformatted_code) {\n",
       "                             nbb_cells[i].set_text(nbb_formatted_code);\n",
       "                        }\n",
       "                        break;\n",
       "                    }\n",
       "                }\n",
       "            }, 500);\n",
       "            "
      ],
      "text/plain": [
       "<IPython.core.display.Javascript object>"
      ]
     },
     "metadata": {},
     "output_type": "display_data"
    }
   ],
   "source": [
    "for col in [\"issue_d\", \"earliest_cr_line\", \"last_pymnt_d\", \"last_credit_pull_d\"]:\n",
    "    chunk_iter = pd.read_csv(\n",
    "        \"loans_2007.csv\",\n",
    "        chunksize=3000,\n",
    "        converters=converters,\n",
    "        dtype=col_types,\n",
    "        usecols=[col],\n",
    "    )\n",
    "    print([chunk[col].isna().sum() for chunk in chunk_iter])"
   ]
  },
  {
   "cell_type": "markdown",
   "metadata": {},
   "source": [
    "#### Observations:\n",
    "- We have very few missing values for `issue_d`, `earliest_cr_line`, and `last_credit_pull_d`.\n",
    "- There are a few more for `last_pymt_d`, which may be consistent with no payment yet received.\n",
    "- These few entries can be further examined during analysis."
   ]
  },
  {
   "cell_type": "markdown",
   "metadata": {},
   "source": [
    "## Final Memory Usage after RAM Optimization"
   ]
  },
  {
   "cell_type": "markdown",
   "metadata": {},
   "source": [
    "#### Verifying that All Columns Treated with either `converters` or `dtype`"
   ]
  },
  {
   "cell_type": "code",
   "execution_count": 79,
   "metadata": {},
   "outputs": [
    {
     "name": "stdout",
     "output_type": "stream",
     "text": [
      "True\n"
     ]
    },
    {
     "data": {
      "text/plain": [
       "True"
      ]
     },
     "execution_count": 79,
     "metadata": {},
     "output_type": "execute_result"
    },
    {
     "data": {
      "application/javascript": [
       "\n",
       "            setTimeout(function() {\n",
       "                var nbb_cell_id = 79;\n",
       "                var nbb_unformatted_code = \"# Checking that length of usecols is same as length of converters and col_types\\nusecols = dtypes_keep_cols.index.tolist()\\nprint(len(usecols) == len(converters) + len(col_types))\\n\\n# Checking that all columns in usecols are in converters + col_types\\n[\\n    item\\n    for item in usecols\\n    if item not in list(converters.keys()) + list(col_types.keys())\\n] == []\";\n",
       "                var nbb_formatted_code = \"# Checking that length of usecols is same as length of converters and col_types\\nusecols = dtypes_keep_cols.index.tolist()\\nprint(len(usecols) == len(converters) + len(col_types))\\n\\n# Checking that all columns in usecols are in converters + col_types\\n[\\n    item\\n    for item in usecols\\n    if item not in list(converters.keys()) + list(col_types.keys())\\n] == []\";\n",
       "                var nbb_cells = Jupyter.notebook.get_cells();\n",
       "                for (var i = 0; i < nbb_cells.length; ++i) {\n",
       "                    if (nbb_cells[i].input_prompt_number == nbb_cell_id) {\n",
       "                        if (nbb_cells[i].get_text() == nbb_unformatted_code) {\n",
       "                             nbb_cells[i].set_text(nbb_formatted_code);\n",
       "                        }\n",
       "                        break;\n",
       "                    }\n",
       "                }\n",
       "            }, 500);\n",
       "            "
      ],
      "text/plain": [
       "<IPython.core.display.Javascript object>"
      ]
     },
     "metadata": {},
     "output_type": "display_data"
    }
   ],
   "source": [
    "# Checking that length of usecols is same as length of converters and col_types\n",
    "usecols = dtypes_keep_cols.index.tolist()\n",
    "print(len(usecols) == len(converters) + len(col_types))\n",
    "\n",
    "# Checking that all columns in usecols are in converters + col_types\n",
    "[\n",
    "    item\n",
    "    for item in usecols\n",
    "    if item not in list(converters.keys()) + list(col_types.keys())\n",
    "] == []"
   ]
  },
  {
   "cell_type": "markdown",
   "metadata": {},
   "source": [
    "## Final Memory Footprint"
   ]
  },
  {
   "cell_type": "code",
   "execution_count": 99,
   "metadata": {},
   "outputs": [
    {
     "name": "stdout",
     "output_type": "stream",
     "text": [
      "Memory Footprint in MB:\n",
      "\n",
      "Index                         0.001884\n",
      "acc_now_delinq                0.162270\n",
      "addr_state                    0.096841\n",
      "annual_inc                    0.162270\n",
      "application_type              0.041526\n",
      "chargeoff_within_12_mths      0.162270\n",
      "collection_recovery_fee       0.162270\n",
      "collections_12_mths_ex_med    0.162270\n",
      "delinq_2yrs                   0.162270\n",
      "delinq_amnt                   0.162270\n",
      "dti                           0.162270\n",
      "earliest_cr_line              0.324539\n",
      "emp_length                    0.055244\n",
      "funded_amnt                   0.162270\n",
      "funded_amnt_inv               0.162270\n",
      "grade                         0.051754\n",
      "home_ownership                0.045242\n",
      "initial_list_status           0.041512\n",
      "inq_last_6mths                0.162270\n",
      "installment                   0.162270\n",
      "int_rate                      0.324539\n",
      "issue_d                       0.324539\n",
      "last_credit_pull_d            0.324539\n",
      "last_pymnt_amnt               0.162270\n",
      "last_pymnt_d                  0.324539\n",
      "loan_amnt                     0.162270\n",
      "loan_status                   0.046358\n",
      "member_id                     0.162270\n",
      "open_acc                      0.162270\n",
      "out_prncp                     0.162270\n",
      "out_prncp_inv                 0.162270\n",
      "policy_code                   0.162270\n",
      "pub_rec                       0.162270\n",
      "pub_rec_bankruptcies          0.162270\n",
      "purpose                       0.062567\n",
      "pymnt_plan                    0.041574\n",
      "recoveries                    0.162270\n",
      "revol_bal                     0.162270\n",
      "revol_util                    0.324539\n",
      "sub_grade                     0.088249\n",
      "tax_liens                     0.162270\n",
      "term                          0.042598\n",
      "total_acc                     0.162270\n",
      "total_pymnt                   0.162270\n",
      "total_pymnt_inv               0.162270\n",
      "total_rec_int                 0.162270\n",
      "total_rec_late_fee            0.162270\n",
      "total_rec_prncp               0.162270\n",
      "verification_status           0.044375\n",
      "dtype: float64 \n",
      "\n",
      "Total:  7.475048065185547 \n",
      "\n",
      "\n",
      "Total decrease in memory footprint with optimization: 52.77 MB\n"
     ]
    },
    {
     "data": {
      "application/javascript": [
       "\n",
       "            setTimeout(function() {\n",
       "                var nbb_cell_id = 99;\n",
       "                var nbb_unformatted_code = \"print(\\\"Memory Footprint in MB:\\\\n\\\")\\nchunk_iter = pd.read_csv(\\n    \\\"loans_2007.csv\\\",\\n    chunksize=3000,\\n    usecols=usecols,\\n    converters=converters,\\n    dtype=col_types,\\n)\\nchunk_memory = pd.concat([chunk.memory_usage(deep=True) for chunk in chunk_iter])\\nfinal_memory_usage = chunk_memory.groupby(chunk_memory.index).sum() / (2**20)\\nprint(final_memory_usage, \\\"\\\\n\\\")\\nprint(\\\"Total: \\\", final_memory_usage.sum(), \\\"\\\\n\\\\n\\\")\\nprint(\\n    f\\\"Total decrease in memory footprint with optimization: {np.round(initial_memory_usage.sum() - final_memory_usage.sum(), 2)} MB\\\"\\n)\";\n",
       "                var nbb_formatted_code = \"print(\\\"Memory Footprint in MB:\\\\n\\\")\\nchunk_iter = pd.read_csv(\\n    \\\"loans_2007.csv\\\",\\n    chunksize=3000,\\n    usecols=usecols,\\n    converters=converters,\\n    dtype=col_types,\\n)\\nchunk_memory = pd.concat([chunk.memory_usage(deep=True) for chunk in chunk_iter])\\nfinal_memory_usage = chunk_memory.groupby(chunk_memory.index).sum() / (2**20)\\nprint(final_memory_usage, \\\"\\\\n\\\")\\nprint(\\\"Total: \\\", final_memory_usage.sum(), \\\"\\\\n\\\\n\\\")\\nprint(\\n    f\\\"Total decrease in memory footprint with optimization: {np.round(initial_memory_usage.sum() - final_memory_usage.sum(), 2)} MB\\\"\\n)\";\n",
       "                var nbb_cells = Jupyter.notebook.get_cells();\n",
       "                for (var i = 0; i < nbb_cells.length; ++i) {\n",
       "                    if (nbb_cells[i].input_prompt_number == nbb_cell_id) {\n",
       "                        if (nbb_cells[i].get_text() == nbb_unformatted_code) {\n",
       "                             nbb_cells[i].set_text(nbb_formatted_code);\n",
       "                        }\n",
       "                        break;\n",
       "                    }\n",
       "                }\n",
       "            }, 500);\n",
       "            "
      ],
      "text/plain": [
       "<IPython.core.display.Javascript object>"
      ]
     },
     "metadata": {},
     "output_type": "display_data"
    }
   ],
   "source": [
    "print(\"Memory Footprint in MB:\\n\")\n",
    "chunk_iter = pd.read_csv(\n",
    "    \"loans_2007.csv\",\n",
    "    chunksize=3000,\n",
    "    usecols=usecols,\n",
    "    converters=converters,\n",
    "    dtype=col_types,\n",
    ")\n",
    "chunk_memory = pd.concat([chunk.memory_usage(deep=True) for chunk in chunk_iter])\n",
    "final_memory_usage = chunk_memory.groupby(chunk_memory.index).sum() / (2**20)\n",
    "print(final_memory_usage, \"\\n\")\n",
    "print(\"Total: \", final_memory_usage.sum(), \"\\n\\n\")\n",
    "print(\n",
    "    f\"Total decrease in memory footprint with optimization: {np.round(initial_memory_usage.sum() - final_memory_usage.sum(), 2)} MB\"\n",
    ")"
   ]
  },
  {
   "cell_type": "markdown",
   "metadata": {},
   "source": [
    "#### Conclusions:\n",
    "- We were able to drastically improve the memory footprint by excluding unnecessary columns, cleaning and converting numeric columns disguised as object type, casting date columns as datetime type, and downcasting floats to less memory-intensive subtypes."
   ]
  },
  {
   "cell_type": "markdown",
   "metadata": {},
   "source": [
    "# Appendix:  Additional Related Code Chunks"
   ]
  },
  {
   "cell_type": "code",
   "execution_count": 88,
   "metadata": {},
   "outputs": [
    {
     "data": {
      "text/plain": [
       "iinfo(min=-9223372036854775808, max=9223372036854775807, dtype=int64)"
      ]
     },
     "execution_count": 88,
     "metadata": {},
     "output_type": "execute_result"
    },
    {
     "data": {
      "application/javascript": [
       "\n",
       "            setTimeout(function() {\n",
       "                var nbb_cell_id = 88;\n",
       "                var nbb_unformatted_code = \"np.iinfo('int64')\";\n",
       "                var nbb_formatted_code = \"np.iinfo(\\\"int64\\\")\";\n",
       "                var nbb_cells = Jupyter.notebook.get_cells();\n",
       "                for (var i = 0; i < nbb_cells.length; ++i) {\n",
       "                    if (nbb_cells[i].input_prompt_number == nbb_cell_id) {\n",
       "                        if (nbb_cells[i].get_text() == nbb_unformatted_code) {\n",
       "                             nbb_cells[i].set_text(nbb_formatted_code);\n",
       "                        }\n",
       "                        break;\n",
       "                    }\n",
       "                }\n",
       "            }, 500);\n",
       "            "
      ],
      "text/plain": [
       "<IPython.core.display.Javascript object>"
      ]
     },
     "metadata": {},
     "output_type": "display_data"
    }
   ],
   "source": [
    "np.iinfo(\"int64\")"
   ]
  },
  {
   "cell_type": "code",
   "execution_count": 91,
   "metadata": {},
   "outputs": [
    {
     "data": {
      "text/plain": [
       "52000"
      ]
     },
     "execution_count": 91,
     "metadata": {},
     "output_type": "execute_result"
    },
    {
     "data": {
      "application/javascript": [
       "\n",
       "            setTimeout(function() {\n",
       "                var nbb_cell_id = 91;\n",
       "                var nbb_unformatted_code = \"first_1000.size\";\n",
       "                var nbb_formatted_code = \"first_1000.size\";\n",
       "                var nbb_cells = Jupyter.notebook.get_cells();\n",
       "                for (var i = 0; i < nbb_cells.length; ++i) {\n",
       "                    if (nbb_cells[i].input_prompt_number == nbb_cell_id) {\n",
       "                        if (nbb_cells[i].get_text() == nbb_unformatted_code) {\n",
       "                             nbb_cells[i].set_text(nbb_formatted_code);\n",
       "                        }\n",
       "                        break;\n",
       "                    }\n",
       "                }\n",
       "            }, 500);\n",
       "            "
      ],
      "text/plain": [
       "<IPython.core.display.Javascript object>"
      ]
     },
     "metadata": {},
     "output_type": "display_data"
    }
   ],
   "source": [
    "first_1000.size"
   ]
  },
  {
   "cell_type": "code",
   "execution_count": 93,
   "metadata": {},
   "outputs": [
    {
     "data": {
      "text/plain": [
       "BlockManager\n",
       "Items: Index(['id', 'member_id', 'loan_amnt', 'funded_amnt', 'funded_amnt_inv',\n",
       "       'term', 'int_rate', 'installment', 'grade', 'sub_grade', 'emp_title',\n",
       "       'emp_length', 'home_ownership', 'annual_inc', 'verification_status',\n",
       "       'issue_d', 'loan_status', 'pymnt_plan', 'purpose', 'title', 'zip_code',\n",
       "       'addr_state', 'dti', 'delinq_2yrs', 'earliest_cr_line',\n",
       "       'inq_last_6mths', 'open_acc', 'pub_rec', 'revol_bal', 'revol_util',\n",
       "       'total_acc', 'initial_list_status', 'out_prncp', 'out_prncp_inv',\n",
       "       'total_pymnt', 'total_pymnt_inv', 'total_rec_prncp', 'total_rec_int',\n",
       "       'total_rec_late_fee', 'recoveries', 'collection_recovery_fee',\n",
       "       'last_pymnt_d', 'last_pymnt_amnt', 'last_credit_pull_d',\n",
       "       'collections_12_mths_ex_med', 'policy_code', 'application_type',\n",
       "       'acc_now_delinq', 'chargeoff_within_12_mths', 'delinq_amnt',\n",
       "       'pub_rec_bankruptcies', 'tax_liens'],\n",
       "      dtype='object')\n",
       "Axis 1: RangeIndex(start=0, stop=1000, step=1)\n",
       "FloatBlock: [1, 2, 3, 4, 7, 13, 22, 23, 25, 26, 27, 28, 30, 32, 33, 34, 35, 36, 37, 38, 39, 40, 42, 44, 45, 47, 48, 49, 50, 51], 30 x 1000, dtype: float64\n",
       "IntBlock: slice(0, 1, 1), 1 x 1000, dtype: int64\n",
       "ObjectBlock: [5, 6, 8, 9, 10, 11, 12, 14, 15, 16, 17, 18, 19, 20, 21, 24, 29, 31, 41, 43, 46], 21 x 1000, dtype: object"
      ]
     },
     "execution_count": 93,
     "metadata": {},
     "output_type": "execute_result"
    },
    {
     "data": {
      "application/javascript": [
       "\n",
       "            setTimeout(function() {\n",
       "                var nbb_cell_id = 93;\n",
       "                var nbb_unformatted_code = \"first_1000._data\";\n",
       "                var nbb_formatted_code = \"first_1000._data\";\n",
       "                var nbb_cells = Jupyter.notebook.get_cells();\n",
       "                for (var i = 0; i < nbb_cells.length; ++i) {\n",
       "                    if (nbb_cells[i].input_prompt_number == nbb_cell_id) {\n",
       "                        if (nbb_cells[i].get_text() == nbb_unformatted_code) {\n",
       "                             nbb_cells[i].set_text(nbb_formatted_code);\n",
       "                        }\n",
       "                        break;\n",
       "                    }\n",
       "                }\n",
       "            }, 500);\n",
       "            "
      ],
      "text/plain": [
       "<IPython.core.display.Javascript object>"
      ]
     },
     "metadata": {},
     "output_type": "display_data"
    }
   ],
   "source": [
    "first_1000._data"
   ]
  },
  {
   "cell_type": "code",
   "execution_count": 94,
   "metadata": {},
   "outputs": [
    {
     "data": {
      "text/plain": [
       "0.396728515625"
      ]
     },
     "execution_count": 94,
     "metadata": {},
     "output_type": "execute_result"
    },
    {
     "data": {
      "application/javascript": [
       "\n",
       "            setTimeout(function() {\n",
       "                var nbb_cell_id = 94;\n",
       "                var nbb_unformatted_code = \"# Estimating MB without memory_usage = deep \\nfirst_1000_MB = first_1000.size * 8 / (2**20)  # info memory_usage estimate without \\\"deep\\\"\\nfirst_1000_MB                               \";\n",
       "                var nbb_formatted_code = \"# Estimating MB without memory_usage = deep\\nfirst_1000_MB = (\\n    first_1000.size * 8 / (2**20)\\n)  # info memory_usage estimate without \\\"deep\\\"\\nfirst_1000_MB\";\n",
       "                var nbb_cells = Jupyter.notebook.get_cells();\n",
       "                for (var i = 0; i < nbb_cells.length; ++i) {\n",
       "                    if (nbb_cells[i].input_prompt_number == nbb_cell_id) {\n",
       "                        if (nbb_cells[i].get_text() == nbb_unformatted_code) {\n",
       "                             nbb_cells[i].set_text(nbb_formatted_code);\n",
       "                        }\n",
       "                        break;\n",
       "                    }\n",
       "                }\n",
       "            }, 500);\n",
       "            "
      ],
      "text/plain": [
       "<IPython.core.display.Javascript object>"
      ]
     },
     "metadata": {},
     "output_type": "display_data"
    }
   ],
   "source": [
    "# Estimating MB without memory_usage = deep\n",
    "first_1000_MB = (\n",
    "    first_1000.size * 8 / (2**20)\n",
    ")  # info memory_usage estimate without \"deep\"\n",
    "first_1000_MB"
   ]
  },
  {
   "cell_type": "code",
   "execution_count": 95,
   "metadata": {
    "scrolled": true
   },
   "outputs": [
    {
     "name": "stdout",
     "output_type": "stream",
     "text": [
      "<class 'pandas.core.frame.DataFrame'>\n",
      "RangeIndex: 1000 entries, 0 to 999\n",
      "Data columns (total 52 columns):\n",
      " #   Column                      Non-Null Count  Dtype  \n",
      "---  ------                      --------------  -----  \n",
      " 0   id                          1000 non-null   int64  \n",
      " 1   member_id                   1000 non-null   float64\n",
      " 2   loan_amnt                   1000 non-null   float64\n",
      " 3   funded_amnt                 1000 non-null   float64\n",
      " 4   funded_amnt_inv             1000 non-null   float64\n",
      " 5   term                        1000 non-null   object \n",
      " 6   int_rate                    1000 non-null   object \n",
      " 7   installment                 1000 non-null   float64\n",
      " 8   grade                       1000 non-null   object \n",
      " 9   sub_grade                   1000 non-null   object \n",
      " 10  emp_title                   949 non-null    object \n",
      " 11  emp_length                  983 non-null    object \n",
      " 12  home_ownership              1000 non-null   object \n",
      " 13  annual_inc                  1000 non-null   float64\n",
      " 14  verification_status         1000 non-null   object \n",
      " 15  issue_d                     1000 non-null   object \n",
      " 16  loan_status                 1000 non-null   object \n",
      " 17  pymnt_plan                  1000 non-null   object \n",
      " 18  purpose                     1000 non-null   object \n",
      " 19  title                       1000 non-null   object \n",
      " 20  zip_code                    1000 non-null   object \n",
      " 21  addr_state                  1000 non-null   object \n",
      " 22  dti                         1000 non-null   float64\n",
      " 23  delinq_2yrs                 1000 non-null   float64\n",
      " 24  earliest_cr_line            1000 non-null   object \n",
      " 25  inq_last_6mths              1000 non-null   float64\n",
      " 26  open_acc                    1000 non-null   float64\n",
      " 27  pub_rec                     1000 non-null   float64\n",
      " 28  revol_bal                   1000 non-null   float64\n",
      " 29  revol_util                  1000 non-null   object \n",
      " 30  total_acc                   1000 non-null   float64\n",
      " 31  initial_list_status         1000 non-null   object \n",
      " 32  out_prncp                   1000 non-null   float64\n",
      " 33  out_prncp_inv               1000 non-null   float64\n",
      " 34  total_pymnt                 1000 non-null   float64\n",
      " 35  total_pymnt_inv             1000 non-null   float64\n",
      " 36  total_rec_prncp             1000 non-null   float64\n",
      " 37  total_rec_int               1000 non-null   float64\n",
      " 38  total_rec_late_fee          1000 non-null   float64\n",
      " 39  recoveries                  1000 non-null   float64\n",
      " 40  collection_recovery_fee     1000 non-null   float64\n",
      " 41  last_pymnt_d                999 non-null    object \n",
      " 42  last_pymnt_amnt             1000 non-null   float64\n",
      " 43  last_credit_pull_d          1000 non-null   object \n",
      " 44  collections_12_mths_ex_med  1000 non-null   float64\n",
      " 45  policy_code                 1000 non-null   float64\n",
      " 46  application_type            1000 non-null   object \n",
      " 47  acc_now_delinq              1000 non-null   float64\n",
      " 48  chargeoff_within_12_mths    1000 non-null   float64\n",
      " 49  delinq_amnt                 1000 non-null   float64\n",
      " 50  pub_rec_bankruptcies        1000 non-null   float64\n",
      " 51  tax_liens                   1000 non-null   float64\n",
      "dtypes: float64(30), int64(1), object(21)\n",
      "memory usage: 406.4+ KB\n"
     ]
    },
    {
     "data": {
      "application/javascript": [
       "\n",
       "            setTimeout(function() {\n",
       "                var nbb_cell_id = 95;\n",
       "                var nbb_unformatted_code = \"# Comparison to above estimate without memory_usage = 'deep'\\nfirst_1000.info()\";\n",
       "                var nbb_formatted_code = \"# Comparison to above estimate without memory_usage = 'deep'\\nfirst_1000.info()\";\n",
       "                var nbb_cells = Jupyter.notebook.get_cells();\n",
       "                for (var i = 0; i < nbb_cells.length; ++i) {\n",
       "                    if (nbb_cells[i].input_prompt_number == nbb_cell_id) {\n",
       "                        if (nbb_cells[i].get_text() == nbb_unformatted_code) {\n",
       "                             nbb_cells[i].set_text(nbb_formatted_code);\n",
       "                        }\n",
       "                        break;\n",
       "                    }\n",
       "                }\n",
       "            }, 500);\n",
       "            "
      ],
      "text/plain": [
       "<IPython.core.display.Javascript object>"
      ]
     },
     "metadata": {},
     "output_type": "display_data"
    }
   ],
   "source": [
    "# Comparison to above estimate without memory_usage = 'deep'\n",
    "first_1000.info()"
   ]
  },
  {
   "cell_type": "code",
   "execution_count": 96,
   "metadata": {},
   "outputs": [
    {
     "name": "stdout",
     "output_type": "stream",
     "text": [
      "Machine parameters for int16\n",
      "---------------------------------------------------------------\n",
      "min = -32768\n",
      "max = 32767\n",
      "---------------------------------------------------------------\n",
      "\n",
      "-128\n"
     ]
    },
    {
     "data": {
      "application/javascript": [
       "\n",
       "            setTimeout(function() {\n",
       "                var nbb_cell_id = 96;\n",
       "                var nbb_unformatted_code = \"# Examples of numpy.iinfo() to obtain min and max values type can represent\\nprint(np.iinfo('int16'))\\nprint(np.iinfo('int8').min)\";\n",
       "                var nbb_formatted_code = \"# Examples of numpy.iinfo() to obtain min and max values type can represent\\nprint(np.iinfo(\\\"int16\\\"))\\nprint(np.iinfo(\\\"int8\\\").min)\";\n",
       "                var nbb_cells = Jupyter.notebook.get_cells();\n",
       "                for (var i = 0; i < nbb_cells.length; ++i) {\n",
       "                    if (nbb_cells[i].input_prompt_number == nbb_cell_id) {\n",
       "                        if (nbb_cells[i].get_text() == nbb_unformatted_code) {\n",
       "                             nbb_cells[i].set_text(nbb_formatted_code);\n",
       "                        }\n",
       "                        break;\n",
       "                    }\n",
       "                }\n",
       "            }, 500);\n",
       "            "
      ],
      "text/plain": [
       "<IPython.core.display.Javascript object>"
      ]
     },
     "metadata": {},
     "output_type": "display_data"
    }
   ],
   "source": [
    "# Examples of numpy.iinfo() to obtain min and max values type can represent\n",
    "print(np.iinfo(\"int16\"))\n",
    "print(np.iinfo(\"int8\").min)"
   ]
  },
  {
   "cell_type": "code",
   "execution_count": 98,
   "metadata": {},
   "outputs": [
    {
     "data": {
      "application/javascript": [
       "\n",
       "            setTimeout(function() {\n",
       "                var nbb_cell_id = 98;\n",
       "                var nbb_unformatted_code = \"# Function to downcast for integer\\ndef change_to_int(dataframe, col_name):\\n    col_max = dataframe[col_name].max() \\n    col_min = dataframe[col_name].min()\\n    for dtype_name in ['int8', 'int16', 'int32', 'int64']:\\n        if col_max < np.iint(dtype_name).max and col_min > np.iint(dtype_name).min:\\n            col_types[col] = dtype_name\\n            break\";\n",
       "                var nbb_formatted_code = \"# Function to downcast for integer\\ndef change_to_int(dataframe, col_name):\\n    col_max = dataframe[col_name].max()\\n    col_min = dataframe[col_name].min()\\n    for dtype_name in [\\\"int8\\\", \\\"int16\\\", \\\"int32\\\", \\\"int64\\\"]:\\n        if col_max < np.iint(dtype_name).max and col_min > np.iint(dtype_name).min:\\n            col_types[col] = dtype_name\\n            break\";\n",
       "                var nbb_cells = Jupyter.notebook.get_cells();\n",
       "                for (var i = 0; i < nbb_cells.length; ++i) {\n",
       "                    if (nbb_cells[i].input_prompt_number == nbb_cell_id) {\n",
       "                        if (nbb_cells[i].get_text() == nbb_unformatted_code) {\n",
       "                             nbb_cells[i].set_text(nbb_formatted_code);\n",
       "                        }\n",
       "                        break;\n",
       "                    }\n",
       "                }\n",
       "            }, 500);\n",
       "            "
      ],
      "text/plain": [
       "<IPython.core.display.Javascript object>"
      ]
     },
     "metadata": {},
     "output_type": "display_data"
    }
   ],
   "source": [
    "# Function to downcast for integer\n",
    "def change_to_int(dataframe, col_name):\n",
    "    col_max = dataframe[col_name].max()\n",
    "    col_min = dataframe[col_name].min()\n",
    "    for dtype_name in [\"int8\", \"int16\", \"int32\", \"int64\"]:\n",
    "        if col_max < np.iint(dtype_name).max and col_min > np.iint(dtype_name).min:\n",
    "            col_types[col] = dtype_name\n",
    "            break"
   ]
  }
 ],
 "metadata": {
  "anaconda-cloud": {},
  "kernelspec": {
   "display_name": "Python 3 (ipykernel)",
   "language": "python",
   "name": "python3"
  },
  "language_info": {
   "codemirror_mode": {
    "name": "ipython",
    "version": 3
   },
   "file_extension": ".py",
   "mimetype": "text/x-python",
   "name": "python",
   "nbconvert_exporter": "python",
   "pygments_lexer": "ipython3",
   "version": "3.9.12"
  }
 },
 "nbformat": 4,
 "nbformat_minor": 2
}
